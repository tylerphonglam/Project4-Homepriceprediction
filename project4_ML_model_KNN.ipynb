{
  "cells": [
    {
      "cell_type": "markdown",
      "metadata": {
        "id": "view-in-github",
        "colab_type": "text"
      },
      "source": [
        "<a href=\"https://colab.research.google.com/github/tylerphonglam/Project4-Homepriceprediction/blob/main/project4_ML_model_KNN.ipynb\" target=\"_parent\"><img src=\"https://colab.research.google.com/assets/colab-badge.svg\" alt=\"Open In Colab\"/></a>"
      ]
    },
    {
      "cell_type": "code",
      "execution_count": 1,
      "id": "7f0ed1a7",
      "metadata": {
        "id": "7f0ed1a7"
      },
      "outputs": [],
      "source": [
        "import pandas as pd\n",
        "import numpy as np"
      ]
    },
    {
      "cell_type": "markdown",
      "id": "7e1544e7",
      "metadata": {
        "id": "7e1544e7"
      },
      "source": [
        "# Loading Data"
      ]
    },
    {
      "cell_type": "code",
      "execution_count": 2,
      "id": "2e32cf61",
      "metadata": {
        "id": "2e32cf61"
      },
      "outputs": [],
      "source": [
        "# Github URL\n",
        "url = \"https://raw.githubusercontent.com/tylerphonglam/Project4-Homepriceprediction/main/ontario.csv\""
      ]
    },
    {
      "cell_type": "code",
      "execution_count": 3,
      "id": "eeb9b458",
      "metadata": {
        "id": "eeb9b458"
      },
      "outputs": [],
      "source": [
        "# Reading Ontario dataset into a dataframe\n",
        "ontario = pd.read_csv(url)"
      ]
    },
    {
      "cell_type": "code",
      "execution_count": 4,
      "id": "c292f5d9",
      "metadata": {
        "id": "c292f5d9"
      },
      "outputs": [],
      "source": [
        "df = ontario.copy()"
      ]
    },
    {
      "cell_type": "code",
      "execution_count": 5,
      "id": "5523578a",
      "metadata": {
        "colab": {
          "base_uri": "https://localhost:8080/"
        },
        "id": "5523578a",
        "outputId": "d3fb08c7-e917-4797-dc77-312ae0bebda9"
      },
      "outputs": [
        {
          "output_type": "execute_result",
          "data": {
            "text/plain": [
              "Index(['City', 'Price', 'Address', 'Number_Beds', 'Number_Baths', 'Province',\n",
              "       'Population', 'Latitude', 'Longitude', 'Median_Family_Income'],\n",
              "      dtype='object')"
            ]
          },
          "metadata": {},
          "execution_count": 5
        }
      ],
      "source": [
        "df.columns"
      ]
    },
    {
      "cell_type": "code",
      "execution_count": 6,
      "id": "6715030b",
      "metadata": {
        "colab": {
          "base_uri": "https://localhost:8080/",
          "height": 419
        },
        "id": "6715030b",
        "outputId": "ba10efce-d891-4d0b-a973-c235a6fbcb1a"
      },
      "outputs": [
        {
          "output_type": "execute_result",
          "data": {
            "text/plain": [
              "            City      Price                  Address  Number_Beds  \\\n",
              "0        Toronto   779900.0    #318 -20 SOUTHPORT ST            3   \n",
              "1        Toronto   799999.0    #818 -60 SOUTHPORT ST            3   \n",
              "2        Toronto   799900.0  #714 -859 THE QUEENSWAY            2   \n",
              "3        Toronto  1200000.0         275 MORTIMER AVE            4   \n",
              "4        Toronto   668800.0    #420 -388 RICHMOND ST            1   \n",
              "...          ...        ...                      ...          ...   \n",
              "14010     Regina   399900.0           1777 FORGET ST            4   \n",
              "14011  Saskatoon  1099900.0             2556 MAYFAIR            3   \n",
              "14012  Saskatoon  1149900.0             2552 MAYFAIR            4   \n",
              "14013  Saskatoon  1099900.0             2548 MAYFAIR            4   \n",
              "14014  Saskatoon  1199900.0             2544 MAYFAIR            4   \n",
              "\n",
              "       Number_Baths Province  Population  Latitude  Longitude  \\\n",
              "0                 2  Ontario     5647656   43.7417   -79.3733   \n",
              "1                 1  Ontario     5647656   43.7417   -79.3733   \n",
              "2                 2  Ontario     5647656   43.7417   -79.3733   \n",
              "3                 2  Ontario     5647656   43.7417   -79.3733   \n",
              "4                 1  Ontario     5647656   43.7417   -79.3733   \n",
              "...             ...      ...         ...       ...        ...   \n",
              "14010             1  Ontario      226404   50.4547  -104.6067   \n",
              "14011             3  Ontario      266141   52.1333  -106.6833   \n",
              "14012             3  Ontario      266141   52.1333  -106.6833   \n",
              "14013             3  Ontario      266141   52.1333  -106.6833   \n",
              "14014             3  Ontario      266141   52.1333  -106.6833   \n",
              "\n",
              "       Median_Family_Income  \n",
              "0                   97000.0  \n",
              "1                   97000.0  \n",
              "2                   97000.0  \n",
              "3                   97000.0  \n",
              "4                   97000.0  \n",
              "...                     ...  \n",
              "14010               90000.0  \n",
              "14011               89000.0  \n",
              "14012               89000.0  \n",
              "14013               89000.0  \n",
              "14014               89000.0  \n",
              "\n",
              "[14015 rows x 10 columns]"
            ],
            "text/html": [
              "\n",
              "  <div id=\"df-b36cf60f-6e0a-43a4-86d6-0d871938dc89\" class=\"colab-df-container\">\n",
              "    <div>\n",
              "<style scoped>\n",
              "    .dataframe tbody tr th:only-of-type {\n",
              "        vertical-align: middle;\n",
              "    }\n",
              "\n",
              "    .dataframe tbody tr th {\n",
              "        vertical-align: top;\n",
              "    }\n",
              "\n",
              "    .dataframe thead th {\n",
              "        text-align: right;\n",
              "    }\n",
              "</style>\n",
              "<table border=\"1\" class=\"dataframe\">\n",
              "  <thead>\n",
              "    <tr style=\"text-align: right;\">\n",
              "      <th></th>\n",
              "      <th>City</th>\n",
              "      <th>Price</th>\n",
              "      <th>Address</th>\n",
              "      <th>Number_Beds</th>\n",
              "      <th>Number_Baths</th>\n",
              "      <th>Province</th>\n",
              "      <th>Population</th>\n",
              "      <th>Latitude</th>\n",
              "      <th>Longitude</th>\n",
              "      <th>Median_Family_Income</th>\n",
              "    </tr>\n",
              "  </thead>\n",
              "  <tbody>\n",
              "    <tr>\n",
              "      <th>0</th>\n",
              "      <td>Toronto</td>\n",
              "      <td>779900.0</td>\n",
              "      <td>#318 -20 SOUTHPORT ST</td>\n",
              "      <td>3</td>\n",
              "      <td>2</td>\n",
              "      <td>Ontario</td>\n",
              "      <td>5647656</td>\n",
              "      <td>43.7417</td>\n",
              "      <td>-79.3733</td>\n",
              "      <td>97000.0</td>\n",
              "    </tr>\n",
              "    <tr>\n",
              "      <th>1</th>\n",
              "      <td>Toronto</td>\n",
              "      <td>799999.0</td>\n",
              "      <td>#818 -60 SOUTHPORT ST</td>\n",
              "      <td>3</td>\n",
              "      <td>1</td>\n",
              "      <td>Ontario</td>\n",
              "      <td>5647656</td>\n",
              "      <td>43.7417</td>\n",
              "      <td>-79.3733</td>\n",
              "      <td>97000.0</td>\n",
              "    </tr>\n",
              "    <tr>\n",
              "      <th>2</th>\n",
              "      <td>Toronto</td>\n",
              "      <td>799900.0</td>\n",
              "      <td>#714 -859 THE QUEENSWAY</td>\n",
              "      <td>2</td>\n",
              "      <td>2</td>\n",
              "      <td>Ontario</td>\n",
              "      <td>5647656</td>\n",
              "      <td>43.7417</td>\n",
              "      <td>-79.3733</td>\n",
              "      <td>97000.0</td>\n",
              "    </tr>\n",
              "    <tr>\n",
              "      <th>3</th>\n",
              "      <td>Toronto</td>\n",
              "      <td>1200000.0</td>\n",
              "      <td>275 MORTIMER AVE</td>\n",
              "      <td>4</td>\n",
              "      <td>2</td>\n",
              "      <td>Ontario</td>\n",
              "      <td>5647656</td>\n",
              "      <td>43.7417</td>\n",
              "      <td>-79.3733</td>\n",
              "      <td>97000.0</td>\n",
              "    </tr>\n",
              "    <tr>\n",
              "      <th>4</th>\n",
              "      <td>Toronto</td>\n",
              "      <td>668800.0</td>\n",
              "      <td>#420 -388 RICHMOND ST</td>\n",
              "      <td>1</td>\n",
              "      <td>1</td>\n",
              "      <td>Ontario</td>\n",
              "      <td>5647656</td>\n",
              "      <td>43.7417</td>\n",
              "      <td>-79.3733</td>\n",
              "      <td>97000.0</td>\n",
              "    </tr>\n",
              "    <tr>\n",
              "      <th>...</th>\n",
              "      <td>...</td>\n",
              "      <td>...</td>\n",
              "      <td>...</td>\n",
              "      <td>...</td>\n",
              "      <td>...</td>\n",
              "      <td>...</td>\n",
              "      <td>...</td>\n",
              "      <td>...</td>\n",
              "      <td>...</td>\n",
              "      <td>...</td>\n",
              "    </tr>\n",
              "    <tr>\n",
              "      <th>14010</th>\n",
              "      <td>Regina</td>\n",
              "      <td>399900.0</td>\n",
              "      <td>1777 FORGET ST</td>\n",
              "      <td>4</td>\n",
              "      <td>1</td>\n",
              "      <td>Ontario</td>\n",
              "      <td>226404</td>\n",
              "      <td>50.4547</td>\n",
              "      <td>-104.6067</td>\n",
              "      <td>90000.0</td>\n",
              "    </tr>\n",
              "    <tr>\n",
              "      <th>14011</th>\n",
              "      <td>Saskatoon</td>\n",
              "      <td>1099900.0</td>\n",
              "      <td>2556 MAYFAIR</td>\n",
              "      <td>3</td>\n",
              "      <td>3</td>\n",
              "      <td>Ontario</td>\n",
              "      <td>266141</td>\n",
              "      <td>52.1333</td>\n",
              "      <td>-106.6833</td>\n",
              "      <td>89000.0</td>\n",
              "    </tr>\n",
              "    <tr>\n",
              "      <th>14012</th>\n",
              "      <td>Saskatoon</td>\n",
              "      <td>1149900.0</td>\n",
              "      <td>2552 MAYFAIR</td>\n",
              "      <td>4</td>\n",
              "      <td>3</td>\n",
              "      <td>Ontario</td>\n",
              "      <td>266141</td>\n",
              "      <td>52.1333</td>\n",
              "      <td>-106.6833</td>\n",
              "      <td>89000.0</td>\n",
              "    </tr>\n",
              "    <tr>\n",
              "      <th>14013</th>\n",
              "      <td>Saskatoon</td>\n",
              "      <td>1099900.0</td>\n",
              "      <td>2548 MAYFAIR</td>\n",
              "      <td>4</td>\n",
              "      <td>3</td>\n",
              "      <td>Ontario</td>\n",
              "      <td>266141</td>\n",
              "      <td>52.1333</td>\n",
              "      <td>-106.6833</td>\n",
              "      <td>89000.0</td>\n",
              "    </tr>\n",
              "    <tr>\n",
              "      <th>14014</th>\n",
              "      <td>Saskatoon</td>\n",
              "      <td>1199900.0</td>\n",
              "      <td>2544 MAYFAIR</td>\n",
              "      <td>4</td>\n",
              "      <td>3</td>\n",
              "      <td>Ontario</td>\n",
              "      <td>266141</td>\n",
              "      <td>52.1333</td>\n",
              "      <td>-106.6833</td>\n",
              "      <td>89000.0</td>\n",
              "    </tr>\n",
              "  </tbody>\n",
              "</table>\n",
              "<p>14015 rows × 10 columns</p>\n",
              "</div>\n",
              "    <div class=\"colab-df-buttons\">\n",
              "\n",
              "  <div class=\"colab-df-container\">\n",
              "    <button class=\"colab-df-convert\" onclick=\"convertToInteractive('df-b36cf60f-6e0a-43a4-86d6-0d871938dc89')\"\n",
              "            title=\"Convert this dataframe to an interactive table.\"\n",
              "            style=\"display:none;\">\n",
              "\n",
              "  <svg xmlns=\"http://www.w3.org/2000/svg\" height=\"24px\" viewBox=\"0 -960 960 960\">\n",
              "    <path d=\"M120-120v-720h720v720H120Zm60-500h600v-160H180v160Zm220 220h160v-160H400v160Zm0 220h160v-160H400v160ZM180-400h160v-160H180v160Zm440 0h160v-160H620v160ZM180-180h160v-160H180v160Zm440 0h160v-160H620v160Z\"/>\n",
              "  </svg>\n",
              "    </button>\n",
              "\n",
              "  <style>\n",
              "    .colab-df-container {\n",
              "      display:flex;\n",
              "      gap: 12px;\n",
              "    }\n",
              "\n",
              "    .colab-df-convert {\n",
              "      background-color: #E8F0FE;\n",
              "      border: none;\n",
              "      border-radius: 50%;\n",
              "      cursor: pointer;\n",
              "      display: none;\n",
              "      fill: #1967D2;\n",
              "      height: 32px;\n",
              "      padding: 0 0 0 0;\n",
              "      width: 32px;\n",
              "    }\n",
              "\n",
              "    .colab-df-convert:hover {\n",
              "      background-color: #E2EBFA;\n",
              "      box-shadow: 0px 1px 2px rgba(60, 64, 67, 0.3), 0px 1px 3px 1px rgba(60, 64, 67, 0.15);\n",
              "      fill: #174EA6;\n",
              "    }\n",
              "\n",
              "    .colab-df-buttons div {\n",
              "      margin-bottom: 4px;\n",
              "    }\n",
              "\n",
              "    [theme=dark] .colab-df-convert {\n",
              "      background-color: #3B4455;\n",
              "      fill: #D2E3FC;\n",
              "    }\n",
              "\n",
              "    [theme=dark] .colab-df-convert:hover {\n",
              "      background-color: #434B5C;\n",
              "      box-shadow: 0px 1px 3px 1px rgba(0, 0, 0, 0.15);\n",
              "      filter: drop-shadow(0px 1px 2px rgba(0, 0, 0, 0.3));\n",
              "      fill: #FFFFFF;\n",
              "    }\n",
              "  </style>\n",
              "\n",
              "    <script>\n",
              "      const buttonEl =\n",
              "        document.querySelector('#df-b36cf60f-6e0a-43a4-86d6-0d871938dc89 button.colab-df-convert');\n",
              "      buttonEl.style.display =\n",
              "        google.colab.kernel.accessAllowed ? 'block' : 'none';\n",
              "\n",
              "      async function convertToInteractive(key) {\n",
              "        const element = document.querySelector('#df-b36cf60f-6e0a-43a4-86d6-0d871938dc89');\n",
              "        const dataTable =\n",
              "          await google.colab.kernel.invokeFunction('convertToInteractive',\n",
              "                                                    [key], {});\n",
              "        if (!dataTable) return;\n",
              "\n",
              "        const docLinkHtml = 'Like what you see? Visit the ' +\n",
              "          '<a target=\"_blank\" href=https://colab.research.google.com/notebooks/data_table.ipynb>data table notebook</a>'\n",
              "          + ' to learn more about interactive tables.';\n",
              "        element.innerHTML = '';\n",
              "        dataTable['output_type'] = 'display_data';\n",
              "        await google.colab.output.renderOutput(dataTable, element);\n",
              "        const docLink = document.createElement('div');\n",
              "        docLink.innerHTML = docLinkHtml;\n",
              "        element.appendChild(docLink);\n",
              "      }\n",
              "    </script>\n",
              "  </div>\n",
              "\n",
              "\n",
              "<div id=\"df-b0054555-3727-4743-886a-69aa7991f08a\">\n",
              "  <button class=\"colab-df-quickchart\" onclick=\"quickchart('df-b0054555-3727-4743-886a-69aa7991f08a')\"\n",
              "            title=\"Suggest charts\"\n",
              "            style=\"display:none;\">\n",
              "\n",
              "<svg xmlns=\"http://www.w3.org/2000/svg\" height=\"24px\"viewBox=\"0 0 24 24\"\n",
              "     width=\"24px\">\n",
              "    <g>\n",
              "        <path d=\"M19 3H5c-1.1 0-2 .9-2 2v14c0 1.1.9 2 2 2h14c1.1 0 2-.9 2-2V5c0-1.1-.9-2-2-2zM9 17H7v-7h2v7zm4 0h-2V7h2v10zm4 0h-2v-4h2v4z\"/>\n",
              "    </g>\n",
              "</svg>\n",
              "  </button>\n",
              "\n",
              "<style>\n",
              "  .colab-df-quickchart {\n",
              "      --bg-color: #E8F0FE;\n",
              "      --fill-color: #1967D2;\n",
              "      --hover-bg-color: #E2EBFA;\n",
              "      --hover-fill-color: #174EA6;\n",
              "      --disabled-fill-color: #AAA;\n",
              "      --disabled-bg-color: #DDD;\n",
              "  }\n",
              "\n",
              "  [theme=dark] .colab-df-quickchart {\n",
              "      --bg-color: #3B4455;\n",
              "      --fill-color: #D2E3FC;\n",
              "      --hover-bg-color: #434B5C;\n",
              "      --hover-fill-color: #FFFFFF;\n",
              "      --disabled-bg-color: #3B4455;\n",
              "      --disabled-fill-color: #666;\n",
              "  }\n",
              "\n",
              "  .colab-df-quickchart {\n",
              "    background-color: var(--bg-color);\n",
              "    border: none;\n",
              "    border-radius: 50%;\n",
              "    cursor: pointer;\n",
              "    display: none;\n",
              "    fill: var(--fill-color);\n",
              "    height: 32px;\n",
              "    padding: 0;\n",
              "    width: 32px;\n",
              "  }\n",
              "\n",
              "  .colab-df-quickchart:hover {\n",
              "    background-color: var(--hover-bg-color);\n",
              "    box-shadow: 0 1px 2px rgba(60, 64, 67, 0.3), 0 1px 3px 1px rgba(60, 64, 67, 0.15);\n",
              "    fill: var(--button-hover-fill-color);\n",
              "  }\n",
              "\n",
              "  .colab-df-quickchart-complete:disabled,\n",
              "  .colab-df-quickchart-complete:disabled:hover {\n",
              "    background-color: var(--disabled-bg-color);\n",
              "    fill: var(--disabled-fill-color);\n",
              "    box-shadow: none;\n",
              "  }\n",
              "\n",
              "  .colab-df-spinner {\n",
              "    border: 2px solid var(--fill-color);\n",
              "    border-color: transparent;\n",
              "    border-bottom-color: var(--fill-color);\n",
              "    animation:\n",
              "      spin 1s steps(1) infinite;\n",
              "  }\n",
              "\n",
              "  @keyframes spin {\n",
              "    0% {\n",
              "      border-color: transparent;\n",
              "      border-bottom-color: var(--fill-color);\n",
              "      border-left-color: var(--fill-color);\n",
              "    }\n",
              "    20% {\n",
              "      border-color: transparent;\n",
              "      border-left-color: var(--fill-color);\n",
              "      border-top-color: var(--fill-color);\n",
              "    }\n",
              "    30% {\n",
              "      border-color: transparent;\n",
              "      border-left-color: var(--fill-color);\n",
              "      border-top-color: var(--fill-color);\n",
              "      border-right-color: var(--fill-color);\n",
              "    }\n",
              "    40% {\n",
              "      border-color: transparent;\n",
              "      border-right-color: var(--fill-color);\n",
              "      border-top-color: var(--fill-color);\n",
              "    }\n",
              "    60% {\n",
              "      border-color: transparent;\n",
              "      border-right-color: var(--fill-color);\n",
              "    }\n",
              "    80% {\n",
              "      border-color: transparent;\n",
              "      border-right-color: var(--fill-color);\n",
              "      border-bottom-color: var(--fill-color);\n",
              "    }\n",
              "    90% {\n",
              "      border-color: transparent;\n",
              "      border-bottom-color: var(--fill-color);\n",
              "    }\n",
              "  }\n",
              "</style>\n",
              "\n",
              "  <script>\n",
              "    async function quickchart(key) {\n",
              "      const quickchartButtonEl =\n",
              "        document.querySelector('#' + key + ' button');\n",
              "      quickchartButtonEl.disabled = true;  // To prevent multiple clicks.\n",
              "      quickchartButtonEl.classList.add('colab-df-spinner');\n",
              "      try {\n",
              "        const charts = await google.colab.kernel.invokeFunction(\n",
              "            'suggestCharts', [key], {});\n",
              "      } catch (error) {\n",
              "        console.error('Error during call to suggestCharts:', error);\n",
              "      }\n",
              "      quickchartButtonEl.classList.remove('colab-df-spinner');\n",
              "      quickchartButtonEl.classList.add('colab-df-quickchart-complete');\n",
              "    }\n",
              "    (() => {\n",
              "      let quickchartButtonEl =\n",
              "        document.querySelector('#df-b0054555-3727-4743-886a-69aa7991f08a button');\n",
              "      quickchartButtonEl.style.display =\n",
              "        google.colab.kernel.accessAllowed ? 'block' : 'none';\n",
              "    })();\n",
              "  </script>\n",
              "</div>\n",
              "    </div>\n",
              "  </div>\n"
            ]
          },
          "metadata": {},
          "execution_count": 6
        }
      ],
      "source": [
        "df"
      ]
    },
    {
      "cell_type": "markdown",
      "id": "843cc155",
      "metadata": {
        "id": "843cc155"
      },
      "source": [
        "# Making New Features"
      ]
    },
    {
      "cell_type": "code",
      "execution_count": 7,
      "id": "9756bdc9",
      "metadata": {
        "id": "9756bdc9"
      },
      "outputs": [],
      "source": [
        "df['Income_9_percent'] = df['Median_Family_Income'] * 0.09\n",
        "df['Income_18_percent'] = df['Median_Family_Income'] * 0.18\n",
        "df['Income_27_percent'] = df['Median_Family_Income'] * 0.27"
      ]
    },
    {
      "cell_type": "code",
      "execution_count": 8,
      "id": "63750adb",
      "metadata": {
        "id": "63750adb"
      },
      "outputs": [],
      "source": [
        "df['Installments_9_percent'] = df['Price'] / df['Income_9_percent']\n",
        "df['Installments_18_percent'] = df['Price'] / df['Income_18_percent']\n",
        "df['Installments_27_percent'] = df['Price'] / df['Income_27_percent']"
      ]
    },
    {
      "cell_type": "code",
      "execution_count": 8,
      "id": "7a0da85f",
      "metadata": {
        "id": "7a0da85f"
      },
      "outputs": [],
      "source": []
    },
    {
      "cell_type": "code",
      "execution_count": 9,
      "id": "2697bc6a",
      "metadata": {
        "colab": {
          "base_uri": "https://localhost:8080/",
          "height": 694
        },
        "id": "2697bc6a",
        "outputId": "37fd891e-9473-4f50-9201-277b177be167"
      },
      "outputs": [
        {
          "output_type": "execute_result",
          "data": {
            "text/plain": [
              "            City      Price                  Address  Number_Beds  \\\n",
              "0        Toronto   779900.0    #318 -20 SOUTHPORT ST            3   \n",
              "1        Toronto   799999.0    #818 -60 SOUTHPORT ST            3   \n",
              "2        Toronto   799900.0  #714 -859 THE QUEENSWAY            2   \n",
              "3        Toronto  1200000.0         275 MORTIMER AVE            4   \n",
              "4        Toronto   668800.0    #420 -388 RICHMOND ST            1   \n",
              "...          ...        ...                      ...          ...   \n",
              "14010     Regina   399900.0           1777 FORGET ST            4   \n",
              "14011  Saskatoon  1099900.0             2556 MAYFAIR            3   \n",
              "14012  Saskatoon  1149900.0             2552 MAYFAIR            4   \n",
              "14013  Saskatoon  1099900.0             2548 MAYFAIR            4   \n",
              "14014  Saskatoon  1199900.0             2544 MAYFAIR            4   \n",
              "\n",
              "       Number_Baths Province  Population  Latitude  Longitude  \\\n",
              "0                 2  Ontario     5647656   43.7417   -79.3733   \n",
              "1                 1  Ontario     5647656   43.7417   -79.3733   \n",
              "2                 2  Ontario     5647656   43.7417   -79.3733   \n",
              "3                 2  Ontario     5647656   43.7417   -79.3733   \n",
              "4                 1  Ontario     5647656   43.7417   -79.3733   \n",
              "...             ...      ...         ...       ...        ...   \n",
              "14010             1  Ontario      226404   50.4547  -104.6067   \n",
              "14011             3  Ontario      266141   52.1333  -106.6833   \n",
              "14012             3  Ontario      266141   52.1333  -106.6833   \n",
              "14013             3  Ontario      266141   52.1333  -106.6833   \n",
              "14014             3  Ontario      266141   52.1333  -106.6833   \n",
              "\n",
              "       Median_Family_Income  Income_9_percent  Income_18_percent  \\\n",
              "0                   97000.0            8730.0            17460.0   \n",
              "1                   97000.0            8730.0            17460.0   \n",
              "2                   97000.0            8730.0            17460.0   \n",
              "3                   97000.0            8730.0            17460.0   \n",
              "4                   97000.0            8730.0            17460.0   \n",
              "...                     ...               ...                ...   \n",
              "14010               90000.0            8100.0            16200.0   \n",
              "14011               89000.0            8010.0            16020.0   \n",
              "14012               89000.0            8010.0            16020.0   \n",
              "14013               89000.0            8010.0            16020.0   \n",
              "14014               89000.0            8010.0            16020.0   \n",
              "\n",
              "       Income_27_percent  Installments_9_percent  Installments_18_percent  \\\n",
              "0                26190.0               89.335624                44.667812   \n",
              "1                26190.0               91.637915                45.818958   \n",
              "2                26190.0               91.626575                45.813288   \n",
              "3                26190.0              137.457045                68.728522   \n",
              "4                26190.0               76.609393                38.304696   \n",
              "...                  ...                     ...                      ...   \n",
              "14010            24300.0               49.370370                24.685185   \n",
              "14011            24030.0              137.315855                68.657928   \n",
              "14012            24030.0              143.558052                71.779026   \n",
              "14013            24030.0              137.315855                68.657928   \n",
              "14014            24030.0              149.800250                74.900125   \n",
              "\n",
              "       Installments_27_percent  \n",
              "0                    29.778541  \n",
              "1                    30.545972  \n",
              "2                    30.542192  \n",
              "3                    45.819015  \n",
              "4                    25.536464  \n",
              "...                        ...  \n",
              "14010                16.456790  \n",
              "14011                45.771952  \n",
              "14012                47.852684  \n",
              "14013                45.771952  \n",
              "14014                49.933417  \n",
              "\n",
              "[14015 rows x 16 columns]"
            ],
            "text/html": [
              "\n",
              "  <div id=\"df-e93873cd-909c-4c5c-ab61-22f782cae99f\" class=\"colab-df-container\">\n",
              "    <div>\n",
              "<style scoped>\n",
              "    .dataframe tbody tr th:only-of-type {\n",
              "        vertical-align: middle;\n",
              "    }\n",
              "\n",
              "    .dataframe tbody tr th {\n",
              "        vertical-align: top;\n",
              "    }\n",
              "\n",
              "    .dataframe thead th {\n",
              "        text-align: right;\n",
              "    }\n",
              "</style>\n",
              "<table border=\"1\" class=\"dataframe\">\n",
              "  <thead>\n",
              "    <tr style=\"text-align: right;\">\n",
              "      <th></th>\n",
              "      <th>City</th>\n",
              "      <th>Price</th>\n",
              "      <th>Address</th>\n",
              "      <th>Number_Beds</th>\n",
              "      <th>Number_Baths</th>\n",
              "      <th>Province</th>\n",
              "      <th>Population</th>\n",
              "      <th>Latitude</th>\n",
              "      <th>Longitude</th>\n",
              "      <th>Median_Family_Income</th>\n",
              "      <th>Income_9_percent</th>\n",
              "      <th>Income_18_percent</th>\n",
              "      <th>Income_27_percent</th>\n",
              "      <th>Installments_9_percent</th>\n",
              "      <th>Installments_18_percent</th>\n",
              "      <th>Installments_27_percent</th>\n",
              "    </tr>\n",
              "  </thead>\n",
              "  <tbody>\n",
              "    <tr>\n",
              "      <th>0</th>\n",
              "      <td>Toronto</td>\n",
              "      <td>779900.0</td>\n",
              "      <td>#318 -20 SOUTHPORT ST</td>\n",
              "      <td>3</td>\n",
              "      <td>2</td>\n",
              "      <td>Ontario</td>\n",
              "      <td>5647656</td>\n",
              "      <td>43.7417</td>\n",
              "      <td>-79.3733</td>\n",
              "      <td>97000.0</td>\n",
              "      <td>8730.0</td>\n",
              "      <td>17460.0</td>\n",
              "      <td>26190.0</td>\n",
              "      <td>89.335624</td>\n",
              "      <td>44.667812</td>\n",
              "      <td>29.778541</td>\n",
              "    </tr>\n",
              "    <tr>\n",
              "      <th>1</th>\n",
              "      <td>Toronto</td>\n",
              "      <td>799999.0</td>\n",
              "      <td>#818 -60 SOUTHPORT ST</td>\n",
              "      <td>3</td>\n",
              "      <td>1</td>\n",
              "      <td>Ontario</td>\n",
              "      <td>5647656</td>\n",
              "      <td>43.7417</td>\n",
              "      <td>-79.3733</td>\n",
              "      <td>97000.0</td>\n",
              "      <td>8730.0</td>\n",
              "      <td>17460.0</td>\n",
              "      <td>26190.0</td>\n",
              "      <td>91.637915</td>\n",
              "      <td>45.818958</td>\n",
              "      <td>30.545972</td>\n",
              "    </tr>\n",
              "    <tr>\n",
              "      <th>2</th>\n",
              "      <td>Toronto</td>\n",
              "      <td>799900.0</td>\n",
              "      <td>#714 -859 THE QUEENSWAY</td>\n",
              "      <td>2</td>\n",
              "      <td>2</td>\n",
              "      <td>Ontario</td>\n",
              "      <td>5647656</td>\n",
              "      <td>43.7417</td>\n",
              "      <td>-79.3733</td>\n",
              "      <td>97000.0</td>\n",
              "      <td>8730.0</td>\n",
              "      <td>17460.0</td>\n",
              "      <td>26190.0</td>\n",
              "      <td>91.626575</td>\n",
              "      <td>45.813288</td>\n",
              "      <td>30.542192</td>\n",
              "    </tr>\n",
              "    <tr>\n",
              "      <th>3</th>\n",
              "      <td>Toronto</td>\n",
              "      <td>1200000.0</td>\n",
              "      <td>275 MORTIMER AVE</td>\n",
              "      <td>4</td>\n",
              "      <td>2</td>\n",
              "      <td>Ontario</td>\n",
              "      <td>5647656</td>\n",
              "      <td>43.7417</td>\n",
              "      <td>-79.3733</td>\n",
              "      <td>97000.0</td>\n",
              "      <td>8730.0</td>\n",
              "      <td>17460.0</td>\n",
              "      <td>26190.0</td>\n",
              "      <td>137.457045</td>\n",
              "      <td>68.728522</td>\n",
              "      <td>45.819015</td>\n",
              "    </tr>\n",
              "    <tr>\n",
              "      <th>4</th>\n",
              "      <td>Toronto</td>\n",
              "      <td>668800.0</td>\n",
              "      <td>#420 -388 RICHMOND ST</td>\n",
              "      <td>1</td>\n",
              "      <td>1</td>\n",
              "      <td>Ontario</td>\n",
              "      <td>5647656</td>\n",
              "      <td>43.7417</td>\n",
              "      <td>-79.3733</td>\n",
              "      <td>97000.0</td>\n",
              "      <td>8730.0</td>\n",
              "      <td>17460.0</td>\n",
              "      <td>26190.0</td>\n",
              "      <td>76.609393</td>\n",
              "      <td>38.304696</td>\n",
              "      <td>25.536464</td>\n",
              "    </tr>\n",
              "    <tr>\n",
              "      <th>...</th>\n",
              "      <td>...</td>\n",
              "      <td>...</td>\n",
              "      <td>...</td>\n",
              "      <td>...</td>\n",
              "      <td>...</td>\n",
              "      <td>...</td>\n",
              "      <td>...</td>\n",
              "      <td>...</td>\n",
              "      <td>...</td>\n",
              "      <td>...</td>\n",
              "      <td>...</td>\n",
              "      <td>...</td>\n",
              "      <td>...</td>\n",
              "      <td>...</td>\n",
              "      <td>...</td>\n",
              "      <td>...</td>\n",
              "    </tr>\n",
              "    <tr>\n",
              "      <th>14010</th>\n",
              "      <td>Regina</td>\n",
              "      <td>399900.0</td>\n",
              "      <td>1777 FORGET ST</td>\n",
              "      <td>4</td>\n",
              "      <td>1</td>\n",
              "      <td>Ontario</td>\n",
              "      <td>226404</td>\n",
              "      <td>50.4547</td>\n",
              "      <td>-104.6067</td>\n",
              "      <td>90000.0</td>\n",
              "      <td>8100.0</td>\n",
              "      <td>16200.0</td>\n",
              "      <td>24300.0</td>\n",
              "      <td>49.370370</td>\n",
              "      <td>24.685185</td>\n",
              "      <td>16.456790</td>\n",
              "    </tr>\n",
              "    <tr>\n",
              "      <th>14011</th>\n",
              "      <td>Saskatoon</td>\n",
              "      <td>1099900.0</td>\n",
              "      <td>2556 MAYFAIR</td>\n",
              "      <td>3</td>\n",
              "      <td>3</td>\n",
              "      <td>Ontario</td>\n",
              "      <td>266141</td>\n",
              "      <td>52.1333</td>\n",
              "      <td>-106.6833</td>\n",
              "      <td>89000.0</td>\n",
              "      <td>8010.0</td>\n",
              "      <td>16020.0</td>\n",
              "      <td>24030.0</td>\n",
              "      <td>137.315855</td>\n",
              "      <td>68.657928</td>\n",
              "      <td>45.771952</td>\n",
              "    </tr>\n",
              "    <tr>\n",
              "      <th>14012</th>\n",
              "      <td>Saskatoon</td>\n",
              "      <td>1149900.0</td>\n",
              "      <td>2552 MAYFAIR</td>\n",
              "      <td>4</td>\n",
              "      <td>3</td>\n",
              "      <td>Ontario</td>\n",
              "      <td>266141</td>\n",
              "      <td>52.1333</td>\n",
              "      <td>-106.6833</td>\n",
              "      <td>89000.0</td>\n",
              "      <td>8010.0</td>\n",
              "      <td>16020.0</td>\n",
              "      <td>24030.0</td>\n",
              "      <td>143.558052</td>\n",
              "      <td>71.779026</td>\n",
              "      <td>47.852684</td>\n",
              "    </tr>\n",
              "    <tr>\n",
              "      <th>14013</th>\n",
              "      <td>Saskatoon</td>\n",
              "      <td>1099900.0</td>\n",
              "      <td>2548 MAYFAIR</td>\n",
              "      <td>4</td>\n",
              "      <td>3</td>\n",
              "      <td>Ontario</td>\n",
              "      <td>266141</td>\n",
              "      <td>52.1333</td>\n",
              "      <td>-106.6833</td>\n",
              "      <td>89000.0</td>\n",
              "      <td>8010.0</td>\n",
              "      <td>16020.0</td>\n",
              "      <td>24030.0</td>\n",
              "      <td>137.315855</td>\n",
              "      <td>68.657928</td>\n",
              "      <td>45.771952</td>\n",
              "    </tr>\n",
              "    <tr>\n",
              "      <th>14014</th>\n",
              "      <td>Saskatoon</td>\n",
              "      <td>1199900.0</td>\n",
              "      <td>2544 MAYFAIR</td>\n",
              "      <td>4</td>\n",
              "      <td>3</td>\n",
              "      <td>Ontario</td>\n",
              "      <td>266141</td>\n",
              "      <td>52.1333</td>\n",
              "      <td>-106.6833</td>\n",
              "      <td>89000.0</td>\n",
              "      <td>8010.0</td>\n",
              "      <td>16020.0</td>\n",
              "      <td>24030.0</td>\n",
              "      <td>149.800250</td>\n",
              "      <td>74.900125</td>\n",
              "      <td>49.933417</td>\n",
              "    </tr>\n",
              "  </tbody>\n",
              "</table>\n",
              "<p>14015 rows × 16 columns</p>\n",
              "</div>\n",
              "    <div class=\"colab-df-buttons\">\n",
              "\n",
              "  <div class=\"colab-df-container\">\n",
              "    <button class=\"colab-df-convert\" onclick=\"convertToInteractive('df-e93873cd-909c-4c5c-ab61-22f782cae99f')\"\n",
              "            title=\"Convert this dataframe to an interactive table.\"\n",
              "            style=\"display:none;\">\n",
              "\n",
              "  <svg xmlns=\"http://www.w3.org/2000/svg\" height=\"24px\" viewBox=\"0 -960 960 960\">\n",
              "    <path d=\"M120-120v-720h720v720H120Zm60-500h600v-160H180v160Zm220 220h160v-160H400v160Zm0 220h160v-160H400v160ZM180-400h160v-160H180v160Zm440 0h160v-160H620v160ZM180-180h160v-160H180v160Zm440 0h160v-160H620v160Z\"/>\n",
              "  </svg>\n",
              "    </button>\n",
              "\n",
              "  <style>\n",
              "    .colab-df-container {\n",
              "      display:flex;\n",
              "      gap: 12px;\n",
              "    }\n",
              "\n",
              "    .colab-df-convert {\n",
              "      background-color: #E8F0FE;\n",
              "      border: none;\n",
              "      border-radius: 50%;\n",
              "      cursor: pointer;\n",
              "      display: none;\n",
              "      fill: #1967D2;\n",
              "      height: 32px;\n",
              "      padding: 0 0 0 0;\n",
              "      width: 32px;\n",
              "    }\n",
              "\n",
              "    .colab-df-convert:hover {\n",
              "      background-color: #E2EBFA;\n",
              "      box-shadow: 0px 1px 2px rgba(60, 64, 67, 0.3), 0px 1px 3px 1px rgba(60, 64, 67, 0.15);\n",
              "      fill: #174EA6;\n",
              "    }\n",
              "\n",
              "    .colab-df-buttons div {\n",
              "      margin-bottom: 4px;\n",
              "    }\n",
              "\n",
              "    [theme=dark] .colab-df-convert {\n",
              "      background-color: #3B4455;\n",
              "      fill: #D2E3FC;\n",
              "    }\n",
              "\n",
              "    [theme=dark] .colab-df-convert:hover {\n",
              "      background-color: #434B5C;\n",
              "      box-shadow: 0px 1px 3px 1px rgba(0, 0, 0, 0.15);\n",
              "      filter: drop-shadow(0px 1px 2px rgba(0, 0, 0, 0.3));\n",
              "      fill: #FFFFFF;\n",
              "    }\n",
              "  </style>\n",
              "\n",
              "    <script>\n",
              "      const buttonEl =\n",
              "        document.querySelector('#df-e93873cd-909c-4c5c-ab61-22f782cae99f button.colab-df-convert');\n",
              "      buttonEl.style.display =\n",
              "        google.colab.kernel.accessAllowed ? 'block' : 'none';\n",
              "\n",
              "      async function convertToInteractive(key) {\n",
              "        const element = document.querySelector('#df-e93873cd-909c-4c5c-ab61-22f782cae99f');\n",
              "        const dataTable =\n",
              "          await google.colab.kernel.invokeFunction('convertToInteractive',\n",
              "                                                    [key], {});\n",
              "        if (!dataTable) return;\n",
              "\n",
              "        const docLinkHtml = 'Like what you see? Visit the ' +\n",
              "          '<a target=\"_blank\" href=https://colab.research.google.com/notebooks/data_table.ipynb>data table notebook</a>'\n",
              "          + ' to learn more about interactive tables.';\n",
              "        element.innerHTML = '';\n",
              "        dataTable['output_type'] = 'display_data';\n",
              "        await google.colab.output.renderOutput(dataTable, element);\n",
              "        const docLink = document.createElement('div');\n",
              "        docLink.innerHTML = docLinkHtml;\n",
              "        element.appendChild(docLink);\n",
              "      }\n",
              "    </script>\n",
              "  </div>\n",
              "\n",
              "\n",
              "<div id=\"df-801d266a-9397-4aa8-8cbd-5d59f260534c\">\n",
              "  <button class=\"colab-df-quickchart\" onclick=\"quickchart('df-801d266a-9397-4aa8-8cbd-5d59f260534c')\"\n",
              "            title=\"Suggest charts\"\n",
              "            style=\"display:none;\">\n",
              "\n",
              "<svg xmlns=\"http://www.w3.org/2000/svg\" height=\"24px\"viewBox=\"0 0 24 24\"\n",
              "     width=\"24px\">\n",
              "    <g>\n",
              "        <path d=\"M19 3H5c-1.1 0-2 .9-2 2v14c0 1.1.9 2 2 2h14c1.1 0 2-.9 2-2V5c0-1.1-.9-2-2-2zM9 17H7v-7h2v7zm4 0h-2V7h2v10zm4 0h-2v-4h2v4z\"/>\n",
              "    </g>\n",
              "</svg>\n",
              "  </button>\n",
              "\n",
              "<style>\n",
              "  .colab-df-quickchart {\n",
              "      --bg-color: #E8F0FE;\n",
              "      --fill-color: #1967D2;\n",
              "      --hover-bg-color: #E2EBFA;\n",
              "      --hover-fill-color: #174EA6;\n",
              "      --disabled-fill-color: #AAA;\n",
              "      --disabled-bg-color: #DDD;\n",
              "  }\n",
              "\n",
              "  [theme=dark] .colab-df-quickchart {\n",
              "      --bg-color: #3B4455;\n",
              "      --fill-color: #D2E3FC;\n",
              "      --hover-bg-color: #434B5C;\n",
              "      --hover-fill-color: #FFFFFF;\n",
              "      --disabled-bg-color: #3B4455;\n",
              "      --disabled-fill-color: #666;\n",
              "  }\n",
              "\n",
              "  .colab-df-quickchart {\n",
              "    background-color: var(--bg-color);\n",
              "    border: none;\n",
              "    border-radius: 50%;\n",
              "    cursor: pointer;\n",
              "    display: none;\n",
              "    fill: var(--fill-color);\n",
              "    height: 32px;\n",
              "    padding: 0;\n",
              "    width: 32px;\n",
              "  }\n",
              "\n",
              "  .colab-df-quickchart:hover {\n",
              "    background-color: var(--hover-bg-color);\n",
              "    box-shadow: 0 1px 2px rgba(60, 64, 67, 0.3), 0 1px 3px 1px rgba(60, 64, 67, 0.15);\n",
              "    fill: var(--button-hover-fill-color);\n",
              "  }\n",
              "\n",
              "  .colab-df-quickchart-complete:disabled,\n",
              "  .colab-df-quickchart-complete:disabled:hover {\n",
              "    background-color: var(--disabled-bg-color);\n",
              "    fill: var(--disabled-fill-color);\n",
              "    box-shadow: none;\n",
              "  }\n",
              "\n",
              "  .colab-df-spinner {\n",
              "    border: 2px solid var(--fill-color);\n",
              "    border-color: transparent;\n",
              "    border-bottom-color: var(--fill-color);\n",
              "    animation:\n",
              "      spin 1s steps(1) infinite;\n",
              "  }\n",
              "\n",
              "  @keyframes spin {\n",
              "    0% {\n",
              "      border-color: transparent;\n",
              "      border-bottom-color: var(--fill-color);\n",
              "      border-left-color: var(--fill-color);\n",
              "    }\n",
              "    20% {\n",
              "      border-color: transparent;\n",
              "      border-left-color: var(--fill-color);\n",
              "      border-top-color: var(--fill-color);\n",
              "    }\n",
              "    30% {\n",
              "      border-color: transparent;\n",
              "      border-left-color: var(--fill-color);\n",
              "      border-top-color: var(--fill-color);\n",
              "      border-right-color: var(--fill-color);\n",
              "    }\n",
              "    40% {\n",
              "      border-color: transparent;\n",
              "      border-right-color: var(--fill-color);\n",
              "      border-top-color: var(--fill-color);\n",
              "    }\n",
              "    60% {\n",
              "      border-color: transparent;\n",
              "      border-right-color: var(--fill-color);\n",
              "    }\n",
              "    80% {\n",
              "      border-color: transparent;\n",
              "      border-right-color: var(--fill-color);\n",
              "      border-bottom-color: var(--fill-color);\n",
              "    }\n",
              "    90% {\n",
              "      border-color: transparent;\n",
              "      border-bottom-color: var(--fill-color);\n",
              "    }\n",
              "  }\n",
              "</style>\n",
              "\n",
              "  <script>\n",
              "    async function quickchart(key) {\n",
              "      const quickchartButtonEl =\n",
              "        document.querySelector('#' + key + ' button');\n",
              "      quickchartButtonEl.disabled = true;  // To prevent multiple clicks.\n",
              "      quickchartButtonEl.classList.add('colab-df-spinner');\n",
              "      try {\n",
              "        const charts = await google.colab.kernel.invokeFunction(\n",
              "            'suggestCharts', [key], {});\n",
              "      } catch (error) {\n",
              "        console.error('Error during call to suggestCharts:', error);\n",
              "      }\n",
              "      quickchartButtonEl.classList.remove('colab-df-spinner');\n",
              "      quickchartButtonEl.classList.add('colab-df-quickchart-complete');\n",
              "    }\n",
              "    (() => {\n",
              "      let quickchartButtonEl =\n",
              "        document.querySelector('#df-801d266a-9397-4aa8-8cbd-5d59f260534c button');\n",
              "      quickchartButtonEl.style.display =\n",
              "        google.colab.kernel.accessAllowed ? 'block' : 'none';\n",
              "    })();\n",
              "  </script>\n",
              "</div>\n",
              "    </div>\n",
              "  </div>\n"
            ]
          },
          "metadata": {},
          "execution_count": 9
        }
      ],
      "source": [
        "df"
      ]
    },
    {
      "cell_type": "code",
      "execution_count": 9,
      "id": "efa7b2dc",
      "metadata": {
        "id": "efa7b2dc"
      },
      "outputs": [],
      "source": []
    },
    {
      "cell_type": "code",
      "execution_count": 10,
      "id": "870f6c05",
      "metadata": {
        "colab": {
          "base_uri": "https://localhost:8080/"
        },
        "id": "870f6c05",
        "outputId": "183219bf-9fe0-44db-fb89-733b8d4f2d08"
      },
      "outputs": [
        {
          "output_type": "execute_result",
          "data": {
            "text/plain": [
              "Index(['City', 'Price', 'Address', 'Number_Beds', 'Number_Baths', 'Province',\n",
              "       'Population', 'Latitude', 'Longitude', 'Median_Family_Income',\n",
              "       'Income_9_percent', 'Income_18_percent', 'Income_27_percent',\n",
              "       'Installments_9_percent', 'Installments_18_percent',\n",
              "       'Installments_27_percent'],\n",
              "      dtype='object')"
            ]
          },
          "metadata": {},
          "execution_count": 10
        }
      ],
      "source": [
        "df.columns"
      ]
    },
    {
      "cell_type": "markdown",
      "id": "0e8e703c",
      "metadata": {
        "id": "0e8e703c"
      },
      "source": [
        "# Imports for Models"
      ]
    },
    {
      "cell_type": "code",
      "execution_count": 11,
      "id": "d9493138",
      "metadata": {
        "id": "d9493138"
      },
      "outputs": [],
      "source": [
        "from sklearn.model_selection import train_test_split\n",
        "from sklearn.linear_model import LinearRegression\n",
        "from sklearn.svm import SVR\n",
        "from sklearn.neighbors import KNeighborsRegressor\n",
        "from sklearn.metrics import r2_score\n",
        "from sklearn.preprocessing import StandardScaler"
      ]
    },
    {
      "cell_type": "markdown",
      "id": "ac572b52",
      "metadata": {
        "id": "ac572b52"
      },
      "source": [
        "# Split data for test and train"
      ]
    },
    {
      "cell_type": "code",
      "execution_count": 12,
      "id": "9eb22cfc",
      "metadata": {
        "id": "9eb22cfc"
      },
      "outputs": [],
      "source": [
        "# Select features (X) and target variable (y)\n",
        "features = ['Number_Beds', 'Number_Baths','Income_9_percent', 'Income_18_percent', 'Income_27_percent',\n",
        "       'Installments_9_percent', 'Installments_18_percent',\n",
        "       'Installments_27_percent']\n",
        "X = df[features]\n",
        "y = df['Price']"
      ]
    },
    {
      "cell_type": "code",
      "execution_count": 13,
      "id": "945c312c",
      "metadata": {
        "id": "945c312c"
      },
      "outputs": [],
      "source": [
        "# Split the data into training and testing sets\n",
        "X_train, X_test, y_train, y_test = train_test_split(X, y, test_size=0.2, random_state=42)"
      ]
    },
    {
      "cell_type": "markdown",
      "id": "1d4a5021",
      "metadata": {
        "id": "1d4a5021"
      },
      "source": [
        "# Standard Scaler"
      ]
    },
    {
      "cell_type": "code",
      "execution_count": 14,
      "id": "6fed901c",
      "metadata": {
        "id": "6fed901c"
      },
      "outputs": [],
      "source": [
        "# Standardize features for SVM and KNN\n",
        "scaler = StandardScaler()\n",
        "X_train_scaled = scaler.fit_transform(X_train)\n",
        "X_test_scaled = scaler.transform(X_test)"
      ]
    },
    {
      "cell_type": "markdown",
      "id": "604567fb",
      "metadata": {
        "id": "604567fb"
      },
      "source": [
        "# Linear Regression"
      ]
    },
    {
      "cell_type": "code",
      "execution_count": 15,
      "id": "fdb3ece1",
      "metadata": {
        "id": "fdb3ece1"
      },
      "outputs": [],
      "source": [
        "# Linear Regression\n",
        "linear_reg = LinearRegression()\n",
        "linear_reg.fit(X_train, y_train)\n",
        "y_pred_linear = linear_reg.predict(X_test)"
      ]
    },
    {
      "cell_type": "markdown",
      "id": "95f9f214",
      "metadata": {
        "id": "95f9f214"
      },
      "source": [
        "# Support Vector Regression (SVR)"
      ]
    },
    {
      "cell_type": "code",
      "execution_count": 16,
      "id": "b06f828f",
      "metadata": {
        "id": "b06f828f"
      },
      "outputs": [],
      "source": [
        "# Support Vector Regression (SVR)\n",
        "svr = SVR()\n",
        "svr.fit(X_train_scaled, y_train)\n",
        "y_pred_svr = svr.predict(X_test_scaled)"
      ]
    },
    {
      "cell_type": "markdown",
      "id": "58eea203",
      "metadata": {
        "id": "58eea203"
      },
      "source": [
        "# KNN Regression"
      ]
    },
    {
      "cell_type": "code",
      "execution_count": 17,
      "id": "780c2c50",
      "metadata": {
        "id": "780c2c50"
      },
      "outputs": [],
      "source": [
        "# K-Neighbors Regression\n",
        "knn_reg = KNeighborsRegressor()\n",
        "knn_reg.fit(X_train_scaled, y_train)\n",
        "y_pred_knn = knn_reg.predict(X_test_scaled)"
      ]
    },
    {
      "cell_type": "markdown",
      "id": "d01c8bf2",
      "metadata": {
        "id": "d01c8bf2"
      },
      "source": [
        "# Evaluating the Models"
      ]
    },
    {
      "cell_type": "code",
      "execution_count": 18,
      "id": "013019cc",
      "metadata": {
        "id": "013019cc"
      },
      "outputs": [],
      "source": [
        "# Evaluate models\n",
        "def evaluate_model(model_name, y_true, y_pred):\n",
        "    r2 = r2_score(y_true, y_pred)\n",
        "    print(f\"R2 Score: {r2:.2f}\")"
      ]
    },
    {
      "cell_type": "code",
      "execution_count": 18,
      "id": "43b859af",
      "metadata": {
        "id": "43b859af"
      },
      "outputs": [],
      "source": []
    },
    {
      "cell_type": "code",
      "execution_count": 19,
      "id": "5f9e8b26",
      "metadata": {
        "colab": {
          "base_uri": "https://localhost:8080/"
        },
        "id": "5f9e8b26",
        "outputId": "9aee5fe8-5e2e-4440-953f-9c27a40a17c0"
      },
      "outputs": [
        {
          "output_type": "stream",
          "name": "stdout",
          "text": [
            "R2 Score: 0.99\n"
          ]
        }
      ],
      "source": [
        "# Evaluate Linear Regression\n",
        "evaluate_model(\"Linear Regression\", y_test, y_pred_linear)"
      ]
    },
    {
      "cell_type": "code",
      "execution_count": 20,
      "id": "434d82bb",
      "metadata": {
        "colab": {
          "base_uri": "https://localhost:8080/"
        },
        "id": "434d82bb",
        "outputId": "fe3f8f07-3b0d-4ebc-c9a0-0b48ea89f7d1"
      },
      "outputs": [
        {
          "output_type": "stream",
          "name": "stdout",
          "text": [
            "R2 Score: -0.04\n"
          ]
        }
      ],
      "source": [
        "# Evaluate SVR\n",
        "evaluate_model(\"SVR\", y_test, y_pred_svr)"
      ]
    },
    {
      "cell_type": "markdown",
      "id": "e866980d",
      "metadata": {
        "id": "e866980d"
      },
      "source": [
        "### Best R2 Score : 0.77 with KNN"
      ]
    },
    {
      "cell_type": "code",
      "execution_count": 21,
      "id": "b1b22e6e",
      "metadata": {
        "colab": {
          "base_uri": "https://localhost:8080/"
        },
        "id": "b1b22e6e",
        "outputId": "da286a17-74b3-4382-f2a8-f09852a92d20"
      },
      "outputs": [
        {
          "output_type": "stream",
          "name": "stdout",
          "text": [
            "R2 Score: 0.77\n"
          ]
        }
      ],
      "source": [
        "# Evaluate K-Neighbors Regression\n",
        "evaluate_model(\"K-Neighbors Regression\", y_test, y_pred_knn)"
      ]
    },
    {
      "cell_type": "markdown",
      "id": "b0bae915",
      "metadata": {
        "id": "b0bae915"
      },
      "source": [
        "# Optimize the KNN Model"
      ]
    },
    {
      "cell_type": "code",
      "execution_count": 22,
      "id": "dfcdcb54",
      "metadata": {
        "id": "dfcdcb54"
      },
      "outputs": [],
      "source": [
        "from sklearn.model_selection import GridSearchCV\n",
        "from sklearn.metrics import make_scorer\n",
        "\n",
        "# Define the parameter grid\n",
        "param_grid = {'n_neighbors': [3, 5, 7, 9, 11], 'weights': ['uniform', 'distance']}\n",
        "\n",
        "# Create a KNN regressor\n",
        "knn_reg = KNeighborsRegressor()\n",
        "\n",
        "# Instantiate GridSearchCV with R-squared as the scoring metric\n",
        "scorer = make_scorer(r2_score)\n",
        "grid_search = GridSearchCV(knn_reg, param_grid, cv=5, scoring=scorer)\n",
        "\n",
        "# Fit the grid search to the data\n",
        "grid_search.fit(X_train_scaled, y_train)\n",
        "\n",
        "# Get the best parameters\n",
        "best_params = grid_search.best_params_\n",
        "\n",
        "# Use the best parameters to train the model\n",
        "knn_reg_best = KNeighborsRegressor(n_neighbors=best_params['n_neighbors'], weights=best_params['weights'])\n",
        "knn_reg_best.fit(X_train_scaled, y_train)\n",
        "\n",
        "# Predict on the test set\n",
        "y_pred_knn_best = knn_reg_best.predict(X_test_scaled)"
      ]
    },
    {
      "cell_type": "markdown",
      "id": "b5eb6503",
      "metadata": {
        "id": "b5eb6503"
      },
      "source": [
        "## Best Params for KNN"
      ]
    },
    {
      "cell_type": "code",
      "execution_count": 23,
      "id": "cc401494",
      "metadata": {
        "colab": {
          "base_uri": "https://localhost:8080/"
        },
        "id": "cc401494",
        "outputId": "7b54219f-fefe-4d84-f107-0f8070bc0531"
      },
      "outputs": [
        {
          "output_type": "execute_result",
          "data": {
            "text/plain": [
              "{'n_neighbors': 3, 'weights': 'distance'}"
            ]
          },
          "metadata": {},
          "execution_count": 23
        }
      ],
      "source": [
        "best_params"
      ]
    },
    {
      "cell_type": "markdown",
      "id": "37fded81",
      "metadata": {
        "id": "37fded81"
      },
      "source": [
        "### R2 Score :0.78 optimized model"
      ]
    },
    {
      "cell_type": "code",
      "execution_count": 24,
      "id": "427dca5f",
      "metadata": {
        "colab": {
          "base_uri": "https://localhost:8080/"
        },
        "id": "427dca5f",
        "outputId": "cad70aa4-ce90-49e5-f933-809a8e11cf6a"
      },
      "outputs": [
        {
          "output_type": "stream",
          "name": "stdout",
          "text": [
            "R-squared: 0.7834454743046255\n"
          ]
        }
      ],
      "source": [
        "# Evaluate the model\n",
        "r2 = r2_score(y_test, y_pred_knn_best)\n",
        "\n",
        "print(f'R-squared: {r2}')"
      ]
    },
    {
      "cell_type": "markdown",
      "id": "b6958c8e",
      "metadata": {
        "id": "b6958c8e"
      },
      "source": []
    },
    {
      "cell_type": "markdown",
      "id": "044dfdbb",
      "metadata": {
        "id": "044dfdbb"
      },
      "source": [
        "### Function to Predict the House in particular price range with provided beds and baths in ontario"
      ]
    },
    {
      "cell_type": "code",
      "execution_count": 25,
      "id": "6b7c0f7a",
      "metadata": {
        "id": "6b7c0f7a"
      },
      "outputs": [],
      "source": [
        "def predict_house_price():\n",
        "    # Take input from the user\n",
        "    number_of_beds = int(input(\"Enter the number of beds: \"))\n",
        "    number_of_baths = int(input(\"Enter the number of baths: \"))\n",
        "    installment_percentage = float(input(\"Enter the desired installment yearly: \"))\n",
        "    house_price = float(input(\"Enter the House Price: \"))\n",
        "\n",
        "    installment_percentage1 = installment_percentage\n",
        "    installment_percentage2 = installment_percentage * 2\n",
        "    installment_percentage3 = installment_percentage * 3\n",
        "\n",
        "    hp1 = house_price / installment_percentage1\n",
        "    hp2 = house_price / installment_percentage2\n",
        "    hp3 = house_price / installment_percentage3\n",
        "\n",
        "    # Create input data for prediction\n",
        "    input_data = [[number_of_beds, number_of_baths, installment_percentage1,\n",
        "                   installment_percentage2, installment_percentage3,\n",
        "                   hp1, hp2, hp3]]\n",
        "\n",
        "    # Placeholder values for installments\n",
        "    input_data_scaled = scaler.transform(input_data)\n",
        "\n",
        "    # Make predictions\n",
        "    predicted_price = knn_reg_best.predict(input_data_scaled)\n",
        "\n",
        "    # Display the predicted price\n",
        "    print(f\"Predicted Price: {predicted_price[0]:.2f}\")\n",
        "\n",
        "    # Start with a percentage range of 1\n",
        "    percentage_range = 1\n",
        "\n",
        "    while percentage_range <= 20:  # You can adjust the upper limit as needed\n",
        "        # Calculate the lower and upper bounds of the range\n",
        "        lower_bound = predicted_price * (1 - percentage_range / 100)\n",
        "        upper_bound = predicted_price * (1 + percentage_range / 100)\n",
        "\n",
        "        mr = df[(df['Price'] >= lower_bound[0]) & (df['Price'] <= upper_bound[0])]\n",
        "\n",
        "        matching_rows = mr[(mr['Number_Beds'] == number_of_beds) & (mr['Number_Baths'] == number_of_baths)]\n",
        "\n",
        "        # Fetch rows from the original DataFrame within the specified range\n",
        "        if not matching_rows.empty:\n",
        "            # Display relevant information\n",
        "            print(f\"\\nHuse Predicted (within {percentage_range}% range):\")\n",
        "            print(matching_rows[['City', 'Price','Number_Beds','Number_Baths','Province']])\n",
        "            break  # Exit the loop if matching rows are found\n",
        "        else:\n",
        "            percentage_range += 1  # Increase the percentage range\n",
        "\n",
        "    if percentage_range > 30:\n",
        "        print(\"\\nNo house found within the specified range (up to 30%).\")"
      ]
    },
    {
      "cell_type": "markdown",
      "id": "474411ce",
      "metadata": {
        "id": "474411ce"
      },
      "source": [
        "## Final Output"
      ]
    },
    {
      "cell_type": "code",
      "execution_count": 27,
      "id": "e73e09c3",
      "metadata": {
        "colab": {
          "base_uri": "https://localhost:8080/",
          "height": 334
        },
        "id": "e73e09c3",
        "outputId": "12910ca5-5214-4159-feb0-c20114f678f7"
      },
      "outputs": [
        {
          "output_type": "error",
          "ename": "KeyboardInterrupt",
          "evalue": "ignored",
          "traceback": [
            "\u001b[0;31m---------------------------------------------------------------------------\u001b[0m",
            "\u001b[0;31mKeyboardInterrupt\u001b[0m                         Traceback (most recent call last)",
            "\u001b[0;32m<ipython-input-27-14a255911933>\u001b[0m in \u001b[0;36m<cell line: 2>\u001b[0;34m()\u001b[0m\n\u001b[1;32m      1\u001b[0m \u001b[0;31m# Call the function\u001b[0m\u001b[0;34m\u001b[0m\u001b[0;34m\u001b[0m\u001b[0m\n\u001b[0;32m----> 2\u001b[0;31m \u001b[0mpredict_house_price\u001b[0m\u001b[0;34m(\u001b[0m\u001b[0;34m)\u001b[0m\u001b[0;34m\u001b[0m\u001b[0;34m\u001b[0m\u001b[0m\n\u001b[0m",
            "\u001b[0;32m<ipython-input-25-9ebe35db9d73>\u001b[0m in \u001b[0;36mpredict_house_price\u001b[0;34m()\u001b[0m\n\u001b[1;32m      1\u001b[0m \u001b[0;32mdef\u001b[0m \u001b[0mpredict_house_price\u001b[0m\u001b[0;34m(\u001b[0m\u001b[0;34m)\u001b[0m\u001b[0;34m:\u001b[0m\u001b[0;34m\u001b[0m\u001b[0;34m\u001b[0m\u001b[0m\n\u001b[1;32m      2\u001b[0m     \u001b[0;31m# Take input from the user\u001b[0m\u001b[0;34m\u001b[0m\u001b[0;34m\u001b[0m\u001b[0m\n\u001b[0;32m----> 3\u001b[0;31m     \u001b[0mnumber_of_beds\u001b[0m \u001b[0;34m=\u001b[0m \u001b[0mint\u001b[0m\u001b[0;34m(\u001b[0m\u001b[0minput\u001b[0m\u001b[0;34m(\u001b[0m\u001b[0;34m\"Enter the number of beds: \"\u001b[0m\u001b[0;34m)\u001b[0m\u001b[0;34m)\u001b[0m\u001b[0;34m\u001b[0m\u001b[0;34m\u001b[0m\u001b[0m\n\u001b[0m\u001b[1;32m      4\u001b[0m     \u001b[0mnumber_of_baths\u001b[0m \u001b[0;34m=\u001b[0m \u001b[0mint\u001b[0m\u001b[0;34m(\u001b[0m\u001b[0minput\u001b[0m\u001b[0;34m(\u001b[0m\u001b[0;34m\"Enter the number of baths: \"\u001b[0m\u001b[0;34m)\u001b[0m\u001b[0;34m)\u001b[0m\u001b[0;34m\u001b[0m\u001b[0;34m\u001b[0m\u001b[0m\n\u001b[1;32m      5\u001b[0m     \u001b[0minstallment_percentage\u001b[0m \u001b[0;34m=\u001b[0m \u001b[0mfloat\u001b[0m\u001b[0;34m(\u001b[0m\u001b[0minput\u001b[0m\u001b[0;34m(\u001b[0m\u001b[0;34m\"Enter the desired installment yearly: \"\u001b[0m\u001b[0;34m)\u001b[0m\u001b[0;34m)\u001b[0m\u001b[0;34m\u001b[0m\u001b[0;34m\u001b[0m\u001b[0m\n",
            "\u001b[0;32m/usr/local/lib/python3.10/dist-packages/ipykernel/kernelbase.py\u001b[0m in \u001b[0;36mraw_input\u001b[0;34m(self, prompt)\u001b[0m\n\u001b[1;32m    849\u001b[0m                 \u001b[0;34m\"raw_input was called, but this frontend does not support input requests.\"\u001b[0m\u001b[0;34m\u001b[0m\u001b[0;34m\u001b[0m\u001b[0m\n\u001b[1;32m    850\u001b[0m             )\n\u001b[0;32m--> 851\u001b[0;31m         return self._input_request(str(prompt),\n\u001b[0m\u001b[1;32m    852\u001b[0m             \u001b[0mself\u001b[0m\u001b[0;34m.\u001b[0m\u001b[0m_parent_ident\u001b[0m\u001b[0;34m,\u001b[0m\u001b[0;34m\u001b[0m\u001b[0;34m\u001b[0m\u001b[0m\n\u001b[1;32m    853\u001b[0m             \u001b[0mself\u001b[0m\u001b[0;34m.\u001b[0m\u001b[0m_parent_header\u001b[0m\u001b[0;34m,\u001b[0m\u001b[0;34m\u001b[0m\u001b[0;34m\u001b[0m\u001b[0m\n",
            "\u001b[0;32m/usr/local/lib/python3.10/dist-packages/ipykernel/kernelbase.py\u001b[0m in \u001b[0;36m_input_request\u001b[0;34m(self, prompt, ident, parent, password)\u001b[0m\n\u001b[1;32m    893\u001b[0m             \u001b[0;32mexcept\u001b[0m \u001b[0mKeyboardInterrupt\u001b[0m\u001b[0;34m:\u001b[0m\u001b[0;34m\u001b[0m\u001b[0;34m\u001b[0m\u001b[0m\n\u001b[1;32m    894\u001b[0m                 \u001b[0;31m# re-raise KeyboardInterrupt, to truncate traceback\u001b[0m\u001b[0;34m\u001b[0m\u001b[0;34m\u001b[0m\u001b[0m\n\u001b[0;32m--> 895\u001b[0;31m                 \u001b[0;32mraise\u001b[0m \u001b[0mKeyboardInterrupt\u001b[0m\u001b[0;34m(\u001b[0m\u001b[0;34m\"Interrupted by user\"\u001b[0m\u001b[0;34m)\u001b[0m \u001b[0;32mfrom\u001b[0m \u001b[0;32mNone\u001b[0m\u001b[0;34m\u001b[0m\u001b[0;34m\u001b[0m\u001b[0m\n\u001b[0m\u001b[1;32m    896\u001b[0m             \u001b[0;32mexcept\u001b[0m \u001b[0mException\u001b[0m \u001b[0;32mas\u001b[0m \u001b[0me\u001b[0m\u001b[0;34m:\u001b[0m\u001b[0;34m\u001b[0m\u001b[0;34m\u001b[0m\u001b[0m\n\u001b[1;32m    897\u001b[0m                 \u001b[0mself\u001b[0m\u001b[0;34m.\u001b[0m\u001b[0mlog\u001b[0m\u001b[0;34m.\u001b[0m\u001b[0mwarning\u001b[0m\u001b[0;34m(\u001b[0m\u001b[0;34m\"Invalid Message:\"\u001b[0m\u001b[0;34m,\u001b[0m \u001b[0mexc_info\u001b[0m\u001b[0;34m=\u001b[0m\u001b[0;32mTrue\u001b[0m\u001b[0;34m)\u001b[0m\u001b[0;34m\u001b[0m\u001b[0;34m\u001b[0m\u001b[0m\n",
            "\u001b[0;31mKeyboardInterrupt\u001b[0m: Interrupted by user"
          ]
        }
      ],
      "source": [
        "# Call the function\n",
        "predict_house_price()"
      ]
    },
    {
      "cell_type": "code",
      "execution_count": 26,
      "id": "bcbec4c5",
      "metadata": {
        "id": "bcbec4c5"
      },
      "outputs": [],
      "source": []
    },
    {
      "cell_type": "code",
      "execution_count": 26,
      "id": "fdcb132c",
      "metadata": {
        "id": "fdcb132c"
      },
      "outputs": [],
      "source": []
    },
    {
      "cell_type": "code",
      "execution_count": 26,
      "id": "606c0800",
      "metadata": {
        "id": "606c0800"
      },
      "outputs": [],
      "source": []
    }
  ],
  "metadata": {
    "kernelspec": {
      "display_name": "Python 3 (ipykernel)",
      "language": "python",
      "name": "python3"
    },
    "language_info": {
      "codemirror_mode": {
        "name": "ipython",
        "version": 3
      },
      "file_extension": ".py",
      "mimetype": "text/x-python",
      "name": "python",
      "nbconvert_exporter": "python",
      "pygments_lexer": "ipython3",
      "version": "3.10.9"
    },
    "colab": {
      "provenance": [],
      "include_colab_link": true
    }
  },
  "nbformat": 4,
  "nbformat_minor": 5
}