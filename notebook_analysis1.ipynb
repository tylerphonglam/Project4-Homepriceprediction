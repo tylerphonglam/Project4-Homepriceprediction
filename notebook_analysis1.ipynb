{
  "cells": [
    {
      "cell_type": "markdown",
      "metadata": {
        "id": "view-in-github",
        "colab_type": "text"
      },
      "source": [
        "<a href=\"https://colab.research.google.com/github/tylerphonglam/Project4-Homepriceprediction/blob/main/notebook_analysis1.ipynb\" target=\"_parent\"><img src=\"https://colab.research.google.com/assets/colab-badge.svg\" alt=\"Open In Colab\"/></a>"
      ]
    },
    {
      "cell_type": "code",
      "execution_count": null,
      "id": "7bd86e10",
      "metadata": {
        "id": "7bd86e10"
      },
      "outputs": [],
      "source": [
        "import pandas as pd\n",
        "import numpy as np\n",
        "import matplotlib.pyplot as plt\n",
        "import seaborn as sns\n",
        "\n",
        "import warnings\n",
        "warnings.simplefilter(action='ignore', category=FutureWarning)"
      ]
    },
    {
      "cell_type": "code",
      "execution_count": null,
      "id": "2fc21404",
      "metadata": {
        "id": "2fc21404"
      },
      "outputs": [],
      "source": [
        "df=pd.read_csv(\"HouseListings-Top45Cities-10292023-kaggle.csv\",encoding='latin-1')"
      ]
    },
    {
      "cell_type": "code",
      "execution_count": null,
      "id": "0f43993c",
      "metadata": {
        "id": "0f43993c",
        "outputId": "76b767ba-114e-4e13-a165-a081d4dd36c5"
      },
      "outputs": [
        {
          "data": {
            "text/html": [
              "<div>\n",
              "<style scoped>\n",
              "    .dataframe tbody tr th:only-of-type {\n",
              "        vertical-align: middle;\n",
              "    }\n",
              "\n",
              "    .dataframe tbody tr th {\n",
              "        vertical-align: top;\n",
              "    }\n",
              "\n",
              "    .dataframe thead th {\n",
              "        text-align: right;\n",
              "    }\n",
              "</style>\n",
              "<table border=\"1\" class=\"dataframe\">\n",
              "  <thead>\n",
              "    <tr style=\"text-align: right;\">\n",
              "      <th></th>\n",
              "      <th>City</th>\n",
              "      <th>Price</th>\n",
              "      <th>Address</th>\n",
              "      <th>Number_Beds</th>\n",
              "      <th>Number_Baths</th>\n",
              "      <th>Province</th>\n",
              "      <th>Population</th>\n",
              "      <th>Latitude</th>\n",
              "      <th>Longitude</th>\n",
              "      <th>Median_Family_Income</th>\n",
              "    </tr>\n",
              "  </thead>\n",
              "  <tbody>\n",
              "    <tr>\n",
              "      <th>0</th>\n",
              "      <td>Toronto</td>\n",
              "      <td>779900.0</td>\n",
              "      <td>#318 -20 SOUTHPORT ST</td>\n",
              "      <td>3</td>\n",
              "      <td>2</td>\n",
              "      <td>Ontario</td>\n",
              "      <td>5647656</td>\n",
              "      <td>43.7417</td>\n",
              "      <td>-79.3733</td>\n",
              "      <td>97000.0</td>\n",
              "    </tr>\n",
              "    <tr>\n",
              "      <th>1</th>\n",
              "      <td>Toronto</td>\n",
              "      <td>799999.0</td>\n",
              "      <td>#818 -60 SOUTHPORT ST</td>\n",
              "      <td>3</td>\n",
              "      <td>1</td>\n",
              "      <td>Ontario</td>\n",
              "      <td>5647656</td>\n",
              "      <td>43.7417</td>\n",
              "      <td>-79.3733</td>\n",
              "      <td>97000.0</td>\n",
              "    </tr>\n",
              "    <tr>\n",
              "      <th>2</th>\n",
              "      <td>Toronto</td>\n",
              "      <td>799900.0</td>\n",
              "      <td>#714 -859 THE QUEENSWAY</td>\n",
              "      <td>2</td>\n",
              "      <td>2</td>\n",
              "      <td>Ontario</td>\n",
              "      <td>5647656</td>\n",
              "      <td>43.7417</td>\n",
              "      <td>-79.3733</td>\n",
              "      <td>97000.0</td>\n",
              "    </tr>\n",
              "    <tr>\n",
              "      <th>3</th>\n",
              "      <td>Toronto</td>\n",
              "      <td>1200000.0</td>\n",
              "      <td>275 MORTIMER AVE</td>\n",
              "      <td>4</td>\n",
              "      <td>2</td>\n",
              "      <td>Ontario</td>\n",
              "      <td>5647656</td>\n",
              "      <td>43.7417</td>\n",
              "      <td>-79.3733</td>\n",
              "      <td>97000.0</td>\n",
              "    </tr>\n",
              "    <tr>\n",
              "      <th>4</th>\n",
              "      <td>Toronto</td>\n",
              "      <td>668800.0</td>\n",
              "      <td>#420 -388 RICHMOND ST</td>\n",
              "      <td>1</td>\n",
              "      <td>1</td>\n",
              "      <td>Ontario</td>\n",
              "      <td>5647656</td>\n",
              "      <td>43.7417</td>\n",
              "      <td>-79.3733</td>\n",
              "      <td>97000.0</td>\n",
              "    </tr>\n",
              "    <tr>\n",
              "      <th>...</th>\n",
              "      <td>...</td>\n",
              "      <td>...</td>\n",
              "      <td>...</td>\n",
              "      <td>...</td>\n",
              "      <td>...</td>\n",
              "      <td>...</td>\n",
              "      <td>...</td>\n",
              "      <td>...</td>\n",
              "      <td>...</td>\n",
              "      <td>...</td>\n",
              "    </tr>\n",
              "    <tr>\n",
              "      <th>35763</th>\n",
              "      <td>Halifax</td>\n",
              "      <td>439900.0</td>\n",
              "      <td>301 60 Walter Havill Drive</td>\n",
              "      <td>2</td>\n",
              "      <td>2</td>\n",
              "      <td>Nova Scotia</td>\n",
              "      <td>431479</td>\n",
              "      <td>44.8857</td>\n",
              "      <td>63.1005</td>\n",
              "      <td>86753.0</td>\n",
              "    </tr>\n",
              "    <tr>\n",
              "      <th>35764</th>\n",
              "      <td>Halifax</td>\n",
              "      <td>6990000.0</td>\n",
              "      <td>1160 Rockcliffe Street</td>\n",
              "      <td>5</td>\n",
              "      <td>5</td>\n",
              "      <td>Nova Scotia</td>\n",
              "      <td>431479</td>\n",
              "      <td>44.8857</td>\n",
              "      <td>63.1005</td>\n",
              "      <td>86753.0</td>\n",
              "    </tr>\n",
              "    <tr>\n",
              "      <th>35765</th>\n",
              "      <td>Halifax</td>\n",
              "      <td>419900.0</td>\n",
              "      <td>212 60 Walter Havill Drive</td>\n",
              "      <td>2</td>\n",
              "      <td>2</td>\n",
              "      <td>Nova Scotia</td>\n",
              "      <td>431479</td>\n",
              "      <td>44.8857</td>\n",
              "      <td>63.1005</td>\n",
              "      <td>86753.0</td>\n",
              "    </tr>\n",
              "    <tr>\n",
              "      <th>35766</th>\n",
              "      <td>Halifax</td>\n",
              "      <td>949900.0</td>\n",
              "      <td>10 Idlewylde Road</td>\n",
              "      <td>3</td>\n",
              "      <td>1</td>\n",
              "      <td>Nova Scotia</td>\n",
              "      <td>431479</td>\n",
              "      <td>44.8857</td>\n",
              "      <td>63.1005</td>\n",
              "      <td>86753.0</td>\n",
              "    </tr>\n",
              "    <tr>\n",
              "      <th>35767</th>\n",
              "      <td>Halifax</td>\n",
              "      <td>592900.0</td>\n",
              "      <td>208 2842-2856 Gottingen</td>\n",
              "      <td>2</td>\n",
              "      <td>1</td>\n",
              "      <td>Nova Scotia</td>\n",
              "      <td>431479</td>\n",
              "      <td>44.8857</td>\n",
              "      <td>63.1005</td>\n",
              "      <td>86753.0</td>\n",
              "    </tr>\n",
              "  </tbody>\n",
              "</table>\n",
              "<p>35768 rows × 10 columns</p>\n",
              "</div>"
            ],
            "text/plain": [
              "          City      Price                     Address  Number_Beds  \\\n",
              "0      Toronto   779900.0       #318 -20 SOUTHPORT ST            3   \n",
              "1      Toronto   799999.0       #818 -60 SOUTHPORT ST            3   \n",
              "2      Toronto   799900.0     #714 -859 THE QUEENSWAY            2   \n",
              "3      Toronto  1200000.0            275 MORTIMER AVE            4   \n",
              "4      Toronto   668800.0       #420 -388 RICHMOND ST            1   \n",
              "...        ...        ...                         ...          ...   \n",
              "35763  Halifax   439900.0  301 60 Walter Havill Drive            2   \n",
              "35764  Halifax  6990000.0      1160 Rockcliffe Street            5   \n",
              "35765  Halifax   419900.0  212 60 Walter Havill Drive            2   \n",
              "35766  Halifax   949900.0           10 Idlewylde Road            3   \n",
              "35767  Halifax   592900.0     208 2842-2856 Gottingen            2   \n",
              "\n",
              "       Number_Baths     Province  Population  Latitude  Longitude  \\\n",
              "0                 2      Ontario     5647656   43.7417   -79.3733   \n",
              "1                 1      Ontario     5647656   43.7417   -79.3733   \n",
              "2                 2      Ontario     5647656   43.7417   -79.3733   \n",
              "3                 2      Ontario     5647656   43.7417   -79.3733   \n",
              "4                 1      Ontario     5647656   43.7417   -79.3733   \n",
              "...             ...          ...         ...       ...        ...   \n",
              "35763             2  Nova Scotia      431479   44.8857    63.1005   \n",
              "35764             5  Nova Scotia      431479   44.8857    63.1005   \n",
              "35765             2  Nova Scotia      431479   44.8857    63.1005   \n",
              "35766             1  Nova Scotia      431479   44.8857    63.1005   \n",
              "35767             1  Nova Scotia      431479   44.8857    63.1005   \n",
              "\n",
              "       Median_Family_Income  \n",
              "0                   97000.0  \n",
              "1                   97000.0  \n",
              "2                   97000.0  \n",
              "3                   97000.0  \n",
              "4                   97000.0  \n",
              "...                     ...  \n",
              "35763               86753.0  \n",
              "35764               86753.0  \n",
              "35765               86753.0  \n",
              "35766               86753.0  \n",
              "35767               86753.0  \n",
              "\n",
              "[35768 rows x 10 columns]"
            ]
          },
          "execution_count": 8,
          "metadata": {},
          "output_type": "execute_result"
        }
      ],
      "source": [
        "df"
      ]
    },
    {
      "cell_type": "code",
      "execution_count": null,
      "id": "7229e0b6",
      "metadata": {
        "id": "7229e0b6",
        "outputId": "591ec37c-3bff-4d06-f836-b7eb03e4bd71"
      },
      "outputs": [
        {
          "data": {
            "text/plain": [
              "array(['Ontario', 'British Columbia', 'Alberta', 'Manitoba',\n",
              "       'Saskatchewan', 'Newfoundland and Labrador', 'New Brunswick',\n",
              "       'Quebec', 'Nova Scotia'], dtype=object)"
            ]
          },
          "execution_count": 9,
          "metadata": {},
          "output_type": "execute_result"
        }
      ],
      "source": [
        "df[\"Province\"].unique()"
      ]
    },
    {
      "cell_type": "code",
      "execution_count": null,
      "id": "286ad83a",
      "metadata": {
        "id": "286ad83a"
      },
      "outputs": [],
      "source": [
        "data=df[df[\"Province\"]=='Ontario']"
      ]
    },
    {
      "cell_type": "code",
      "execution_count": null,
      "id": "129397ac",
      "metadata": {
        "id": "129397ac",
        "outputId": "9a009311-5224-48ad-c69e-0a8cffea2d4b"
      },
      "outputs": [
        {
          "data": {
            "text/html": [
              "<div>\n",
              "<style scoped>\n",
              "    .dataframe tbody tr th:only-of-type {\n",
              "        vertical-align: middle;\n",
              "    }\n",
              "\n",
              "    .dataframe tbody tr th {\n",
              "        vertical-align: top;\n",
              "    }\n",
              "\n",
              "    .dataframe thead th {\n",
              "        text-align: right;\n",
              "    }\n",
              "</style>\n",
              "<table border=\"1\" class=\"dataframe\">\n",
              "  <thead>\n",
              "    <tr style=\"text-align: right;\">\n",
              "      <th></th>\n",
              "      <th>City</th>\n",
              "      <th>Price</th>\n",
              "      <th>Address</th>\n",
              "      <th>Number_Beds</th>\n",
              "      <th>Number_Baths</th>\n",
              "      <th>Province</th>\n",
              "      <th>Population</th>\n",
              "      <th>Latitude</th>\n",
              "      <th>Longitude</th>\n",
              "      <th>Median_Family_Income</th>\n",
              "    </tr>\n",
              "  </thead>\n",
              "  <tbody>\n",
              "    <tr>\n",
              "      <th>0</th>\n",
              "      <td>Toronto</td>\n",
              "      <td>779900.0</td>\n",
              "      <td>#318 -20 SOUTHPORT ST</td>\n",
              "      <td>3</td>\n",
              "      <td>2</td>\n",
              "      <td>Ontario</td>\n",
              "      <td>5647656</td>\n",
              "      <td>43.7417</td>\n",
              "      <td>-79.3733</td>\n",
              "      <td>97000.0</td>\n",
              "    </tr>\n",
              "    <tr>\n",
              "      <th>1</th>\n",
              "      <td>Toronto</td>\n",
              "      <td>799999.0</td>\n",
              "      <td>#818 -60 SOUTHPORT ST</td>\n",
              "      <td>3</td>\n",
              "      <td>1</td>\n",
              "      <td>Ontario</td>\n",
              "      <td>5647656</td>\n",
              "      <td>43.7417</td>\n",
              "      <td>-79.3733</td>\n",
              "      <td>97000.0</td>\n",
              "    </tr>\n",
              "    <tr>\n",
              "      <th>2</th>\n",
              "      <td>Toronto</td>\n",
              "      <td>799900.0</td>\n",
              "      <td>#714 -859 THE QUEENSWAY</td>\n",
              "      <td>2</td>\n",
              "      <td>2</td>\n",
              "      <td>Ontario</td>\n",
              "      <td>5647656</td>\n",
              "      <td>43.7417</td>\n",
              "      <td>-79.3733</td>\n",
              "      <td>97000.0</td>\n",
              "    </tr>\n",
              "    <tr>\n",
              "      <th>3</th>\n",
              "      <td>Toronto</td>\n",
              "      <td>1200000.0</td>\n",
              "      <td>275 MORTIMER AVE</td>\n",
              "      <td>4</td>\n",
              "      <td>2</td>\n",
              "      <td>Ontario</td>\n",
              "      <td>5647656</td>\n",
              "      <td>43.7417</td>\n",
              "      <td>-79.3733</td>\n",
              "      <td>97000.0</td>\n",
              "    </tr>\n",
              "    <tr>\n",
              "      <th>4</th>\n",
              "      <td>Toronto</td>\n",
              "      <td>668800.0</td>\n",
              "      <td>#420 -388 RICHMOND ST</td>\n",
              "      <td>1</td>\n",
              "      <td>1</td>\n",
              "      <td>Ontario</td>\n",
              "      <td>5647656</td>\n",
              "      <td>43.7417</td>\n",
              "      <td>-79.3733</td>\n",
              "      <td>97000.0</td>\n",
              "    </tr>\n",
              "    <tr>\n",
              "      <th>...</th>\n",
              "      <td>...</td>\n",
              "      <td>...</td>\n",
              "      <td>...</td>\n",
              "      <td>...</td>\n",
              "      <td>...</td>\n",
              "      <td>...</td>\n",
              "      <td>...</td>\n",
              "      <td>...</td>\n",
              "      <td>...</td>\n",
              "      <td>...</td>\n",
              "    </tr>\n",
              "    <tr>\n",
              "      <th>33675</th>\n",
              "      <td>Regina</td>\n",
              "      <td>399900.0</td>\n",
              "      <td>1777 FORGET ST</td>\n",
              "      <td>4</td>\n",
              "      <td>1</td>\n",
              "      <td>Ontario</td>\n",
              "      <td>226404</td>\n",
              "      <td>50.4547</td>\n",
              "      <td>-104.6067</td>\n",
              "      <td>90000.0</td>\n",
              "    </tr>\n",
              "    <tr>\n",
              "      <th>34585</th>\n",
              "      <td>Saskatoon</td>\n",
              "      <td>1099900.0</td>\n",
              "      <td>2556 MAYFAIR</td>\n",
              "      <td>3</td>\n",
              "      <td>3</td>\n",
              "      <td>Ontario</td>\n",
              "      <td>266141</td>\n",
              "      <td>52.1333</td>\n",
              "      <td>-106.6833</td>\n",
              "      <td>89000.0</td>\n",
              "    </tr>\n",
              "    <tr>\n",
              "      <th>34586</th>\n",
              "      <td>Saskatoon</td>\n",
              "      <td>1149900.0</td>\n",
              "      <td>2552 MAYFAIR</td>\n",
              "      <td>4</td>\n",
              "      <td>3</td>\n",
              "      <td>Ontario</td>\n",
              "      <td>266141</td>\n",
              "      <td>52.1333</td>\n",
              "      <td>-106.6833</td>\n",
              "      <td>89000.0</td>\n",
              "    </tr>\n",
              "    <tr>\n",
              "      <th>34587</th>\n",
              "      <td>Saskatoon</td>\n",
              "      <td>1099900.0</td>\n",
              "      <td>2548 MAYFAIR</td>\n",
              "      <td>4</td>\n",
              "      <td>3</td>\n",
              "      <td>Ontario</td>\n",
              "      <td>266141</td>\n",
              "      <td>52.1333</td>\n",
              "      <td>-106.6833</td>\n",
              "      <td>89000.0</td>\n",
              "    </tr>\n",
              "    <tr>\n",
              "      <th>34588</th>\n",
              "      <td>Saskatoon</td>\n",
              "      <td>1199900.0</td>\n",
              "      <td>2544 MAYFAIR</td>\n",
              "      <td>4</td>\n",
              "      <td>3</td>\n",
              "      <td>Ontario</td>\n",
              "      <td>266141</td>\n",
              "      <td>52.1333</td>\n",
              "      <td>-106.6833</td>\n",
              "      <td>89000.0</td>\n",
              "    </tr>\n",
              "  </tbody>\n",
              "</table>\n",
              "<p>14015 rows × 10 columns</p>\n",
              "</div>"
            ],
            "text/plain": [
              "            City      Price                  Address  Number_Beds  \\\n",
              "0        Toronto   779900.0    #318 -20 SOUTHPORT ST            3   \n",
              "1        Toronto   799999.0    #818 -60 SOUTHPORT ST            3   \n",
              "2        Toronto   799900.0  #714 -859 THE QUEENSWAY            2   \n",
              "3        Toronto  1200000.0         275 MORTIMER AVE            4   \n",
              "4        Toronto   668800.0    #420 -388 RICHMOND ST            1   \n",
              "...          ...        ...                      ...          ...   \n",
              "33675     Regina   399900.0           1777 FORGET ST            4   \n",
              "34585  Saskatoon  1099900.0             2556 MAYFAIR            3   \n",
              "34586  Saskatoon  1149900.0             2552 MAYFAIR            4   \n",
              "34587  Saskatoon  1099900.0             2548 MAYFAIR            4   \n",
              "34588  Saskatoon  1199900.0             2544 MAYFAIR            4   \n",
              "\n",
              "       Number_Baths Province  Population  Latitude  Longitude  \\\n",
              "0                 2  Ontario     5647656   43.7417   -79.3733   \n",
              "1                 1  Ontario     5647656   43.7417   -79.3733   \n",
              "2                 2  Ontario     5647656   43.7417   -79.3733   \n",
              "3                 2  Ontario     5647656   43.7417   -79.3733   \n",
              "4                 1  Ontario     5647656   43.7417   -79.3733   \n",
              "...             ...      ...         ...       ...        ...   \n",
              "33675             1  Ontario      226404   50.4547  -104.6067   \n",
              "34585             3  Ontario      266141   52.1333  -106.6833   \n",
              "34586             3  Ontario      266141   52.1333  -106.6833   \n",
              "34587             3  Ontario      266141   52.1333  -106.6833   \n",
              "34588             3  Ontario      266141   52.1333  -106.6833   \n",
              "\n",
              "       Median_Family_Income  \n",
              "0                   97000.0  \n",
              "1                   97000.0  \n",
              "2                   97000.0  \n",
              "3                   97000.0  \n",
              "4                   97000.0  \n",
              "...                     ...  \n",
              "33675               90000.0  \n",
              "34585               89000.0  \n",
              "34586               89000.0  \n",
              "34587               89000.0  \n",
              "34588               89000.0  \n",
              "\n",
              "[14015 rows x 10 columns]"
            ]
          },
          "execution_count": 11,
          "metadata": {},
          "output_type": "execute_result"
        }
      ],
      "source": [
        "data"
      ]
    },
    {
      "cell_type": "code",
      "execution_count": null,
      "id": "29f76524",
      "metadata": {
        "id": "29f76524"
      },
      "outputs": [],
      "source": [
        "# 10 columns\n",
        "# province - Ontanrio (real estate prediction)\n",
        "# 9 columns\n",
        "# not null\n",
        "# 14105 entries/rows"
      ]
    },
    {
      "cell_type": "code",
      "execution_count": null,
      "id": "449e6786",
      "metadata": {
        "id": "449e6786"
      },
      "outputs": [],
      "source": [
        "# data.to_csv(\"ontario.csv\",index=False)"
      ]
    },
    {
      "cell_type": "code",
      "execution_count": null,
      "id": "9de6b964",
      "metadata": {
        "id": "9de6b964",
        "outputId": "91893b98-d361-4b22-c2b7-778e4ce1be2a"
      },
      "outputs": [
        {
          "name": "stdout",
          "output_type": "stream",
          "text": [
            "<class 'pandas.core.frame.DataFrame'>\n",
            "Int64Index: 14015 entries, 0 to 34588\n",
            "Data columns (total 10 columns):\n",
            " #   Column                Non-Null Count  Dtype  \n",
            "---  ------                --------------  -----  \n",
            " 0   City                  14015 non-null  object \n",
            " 1   Price                 14015 non-null  float64\n",
            " 2   Address               14015 non-null  object \n",
            " 3   Number_Beds           14015 non-null  int64  \n",
            " 4   Number_Baths          14015 non-null  int64  \n",
            " 5   Province              14015 non-null  object \n",
            " 6   Population            14015 non-null  int64  \n",
            " 7   Latitude              14015 non-null  float64\n",
            " 8   Longitude             14015 non-null  float64\n",
            " 9   Median_Family_Income  14015 non-null  float64\n",
            "dtypes: float64(4), int64(3), object(3)\n",
            "memory usage: 1.2+ MB\n"
          ]
        }
      ],
      "source": [
        "data.info()"
      ]
    },
    {
      "cell_type": "code",
      "execution_count": null,
      "id": "b8e1a70b",
      "metadata": {
        "id": "b8e1a70b",
        "outputId": "d9381188-e959-457c-ae8d-05ce8d79f7d9"
      },
      "outputs": [
        {
          "data": {
            "text/html": [
              "<div>\n",
              "<style scoped>\n",
              "    .dataframe tbody tr th:only-of-type {\n",
              "        vertical-align: middle;\n",
              "    }\n",
              "\n",
              "    .dataframe tbody tr th {\n",
              "        vertical-align: top;\n",
              "    }\n",
              "\n",
              "    .dataframe thead th {\n",
              "        text-align: right;\n",
              "    }\n",
              "</style>\n",
              "<table border=\"1\" class=\"dataframe\">\n",
              "  <thead>\n",
              "    <tr style=\"text-align: right;\">\n",
              "      <th></th>\n",
              "      <th>Price</th>\n",
              "      <th>Number_Beds</th>\n",
              "      <th>Number_Baths</th>\n",
              "      <th>Population</th>\n",
              "      <th>Latitude</th>\n",
              "      <th>Longitude</th>\n",
              "      <th>Median_Family_Income</th>\n",
              "    </tr>\n",
              "  </thead>\n",
              "  <tbody>\n",
              "    <tr>\n",
              "      <th>count</th>\n",
              "      <td>1.401500e+04</td>\n",
              "      <td>14015.000000</td>\n",
              "      <td>14015.000000</td>\n",
              "      <td>1.401500e+04</td>\n",
              "      <td>14015.000000</td>\n",
              "      <td>14015.000000</td>\n",
              "      <td>14015.000000</td>\n",
              "    </tr>\n",
              "    <tr>\n",
              "      <th>mean</th>\n",
              "      <td>9.556221e+05</td>\n",
              "      <td>3.476775</td>\n",
              "      <td>2.620335</td>\n",
              "      <td>8.528788e+05</td>\n",
              "      <td>43.800289</td>\n",
              "      <td>-79.764878</td>\n",
              "      <td>93573.813771</td>\n",
              "    </tr>\n",
              "    <tr>\n",
              "      <th>std</th>\n",
              "      <td>8.108259e+05</td>\n",
              "      <td>1.909135</td>\n",
              "      <td>1.394161</td>\n",
              "      <td>1.542558e+06</td>\n",
              "      <td>0.996928</td>\n",
              "      <td>2.133919</td>\n",
              "      <td>15141.134451</td>\n",
              "    </tr>\n",
              "    <tr>\n",
              "      <th>min</th>\n",
              "      <td>2.500000e+04</td>\n",
              "      <td>0.000000</td>\n",
              "      <td>0.000000</td>\n",
              "      <td>7.205100e+04</td>\n",
              "      <td>42.283300</td>\n",
              "      <td>-123.936400</td>\n",
              "      <td>73000.000000</td>\n",
              "    </tr>\n",
              "    <tr>\n",
              "      <th>25%</th>\n",
              "      <td>5.909500e+05</td>\n",
              "      <td>3.000000</td>\n",
              "      <td>2.000000</td>\n",
              "      <td>1.443560e+05</td>\n",
              "      <td>43.183300</td>\n",
              "      <td>-80.472800</td>\n",
              "      <td>82000.000000</td>\n",
              "    </tr>\n",
              "    <tr>\n",
              "      <th>50%</th>\n",
              "      <td>7.750000e+05</td>\n",
              "      <td>3.000000</td>\n",
              "      <td>2.000000</td>\n",
              "      <td>3.359490e+05</td>\n",
              "      <td>43.741700</td>\n",
              "      <td>-79.866700</td>\n",
              "      <td>92000.000000</td>\n",
              "    </tr>\n",
              "    <tr>\n",
              "      <th>75%</th>\n",
              "      <td>1.088000e+06</td>\n",
              "      <td>4.000000</td>\n",
              "      <td>3.000000</td>\n",
              "      <td>7.295600e+05</td>\n",
              "      <td>43.900000</td>\n",
              "      <td>-79.233300</td>\n",
              "      <td>98000.000000</td>\n",
              "    </tr>\n",
              "    <tr>\n",
              "      <th>max</th>\n",
              "      <td>3.700000e+07</td>\n",
              "      <td>109.000000</td>\n",
              "      <td>59.000000</td>\n",
              "      <td>5.647656e+06</td>\n",
              "      <td>52.133300</td>\n",
              "      <td>-75.695000</td>\n",
              "      <td>133000.000000</td>\n",
              "    </tr>\n",
              "  </tbody>\n",
              "</table>\n",
              "</div>"
            ],
            "text/plain": [
              "              Price   Number_Beds  Number_Baths    Population      Latitude  \\\n",
              "count  1.401500e+04  14015.000000  14015.000000  1.401500e+04  14015.000000   \n",
              "mean   9.556221e+05      3.476775      2.620335  8.528788e+05     43.800289   \n",
              "std    8.108259e+05      1.909135      1.394161  1.542558e+06      0.996928   \n",
              "min    2.500000e+04      0.000000      0.000000  7.205100e+04     42.283300   \n",
              "25%    5.909500e+05      3.000000      2.000000  1.443560e+05     43.183300   \n",
              "50%    7.750000e+05      3.000000      2.000000  3.359490e+05     43.741700   \n",
              "75%    1.088000e+06      4.000000      3.000000  7.295600e+05     43.900000   \n",
              "max    3.700000e+07    109.000000     59.000000  5.647656e+06     52.133300   \n",
              "\n",
              "          Longitude  Median_Family_Income  \n",
              "count  14015.000000          14015.000000  \n",
              "mean     -79.764878          93573.813771  \n",
              "std        2.133919          15141.134451  \n",
              "min     -123.936400          73000.000000  \n",
              "25%      -80.472800          82000.000000  \n",
              "50%      -79.866700          92000.000000  \n",
              "75%      -79.233300          98000.000000  \n",
              "max      -75.695000         133000.000000  "
            ]
          },
          "execution_count": 15,
          "metadata": {},
          "output_type": "execute_result"
        }
      ],
      "source": [
        "data.describe()"
      ]
    },
    {
      "cell_type": "code",
      "execution_count": null,
      "id": "9a566b9f",
      "metadata": {
        "id": "9a566b9f",
        "outputId": "71cb0bb3-e7d1-4c3f-b3de-98b88c8611b1"
      },
      "outputs": [
        {
          "data": {
            "image/png": "[encoded data removed]",
            "text/plain": [
              "<Figure size 1750x1750 with 56 Axes>"
            ]
          },
          "metadata": {},
          "output_type": "display_data"
        }
      ],
      "source": [
        "sns.pairplot(data)\n",
        "plt.show()"
      ]
    },
    {
      "cell_type": "code",
      "execution_count": null,
      "id": "6e5ae23e",
      "metadata": {
        "id": "6e5ae23e",
        "outputId": "d9f74715-e0da-40de-8f47-c33f07d5fde8"
      },
      "outputs": [
        {
          "name": "stderr",
          "output_type": "stream",
          "text": [
            "C:\\Users\\virtu\\AppData\\Local\\Temp\\ipykernel_7760\\584179032.py:1: UserWarning: \n",
            "\n",
            "`distplot` is a deprecated function and will be removed in seaborn v0.14.0.\n",
            "\n",
            "Please adapt your code to use either `displot` (a figure-level function with\n",
            "similar flexibility) or `histplot` (an axes-level function for histograms).\n",
            "\n",
            "For a guide to updating your code to use the new functions, please see\n",
            "https://gist.github.com/mwaskom/de44147ed2974457ad6372750bbe5751\n",
            "\n",
            "  sns.distplot(data['Price'], color='green')\n"
          ]
        },
        {
          "data": {
            "image/png": "[encoded data removed]",
            "text/plain": [
              "<Figure size 640x480 with 1 Axes>"
            ]
          },
          "metadata": {},
          "output_type": "display_data"
        }
      ],
      "source": [
        "sns.distplot(data['Price'], color='green')\n",
        "plt.show()"
      ]
    },
    {
      "cell_type": "code",
      "execution_count": null,
      "id": "7384e366",
      "metadata": {
        "id": "7384e366",
        "outputId": "8d54ee39-f07f-4097-c757-af0f87f36a57"
      },
      "outputs": [
        {
          "data": {
            "text/html": [
              "<div>\n",
              "<style scoped>\n",
              "    .dataframe tbody tr th:only-of-type {\n",
              "        vertical-align: middle;\n",
              "    }\n",
              "\n",
              "    .dataframe tbody tr th {\n",
              "        vertical-align: top;\n",
              "    }\n",
              "\n",
              "    .dataframe thead th {\n",
              "        text-align: right;\n",
              "    }\n",
              "</style>\n",
              "<table border=\"1\" class=\"dataframe\">\n",
              "  <thead>\n",
              "    <tr style=\"text-align: right;\">\n",
              "      <th></th>\n",
              "      <th>City</th>\n",
              "      <th>Price</th>\n",
              "      <th>Address</th>\n",
              "      <th>Number_Beds</th>\n",
              "      <th>Number_Baths</th>\n",
              "      <th>Province</th>\n",
              "      <th>Population</th>\n",
              "      <th>Latitude</th>\n",
              "      <th>Longitude</th>\n",
              "      <th>Median_Family_Income</th>\n",
              "    </tr>\n",
              "  </thead>\n",
              "  <tbody>\n",
              "    <tr>\n",
              "      <th>0</th>\n",
              "      <td>Toronto</td>\n",
              "      <td>779900.0</td>\n",
              "      <td>#318 -20 SOUTHPORT ST</td>\n",
              "      <td>3</td>\n",
              "      <td>2</td>\n",
              "      <td>Ontario</td>\n",
              "      <td>5647656</td>\n",
              "      <td>43.7417</td>\n",
              "      <td>-79.3733</td>\n",
              "      <td>97000.0</td>\n",
              "    </tr>\n",
              "    <tr>\n",
              "      <th>1</th>\n",
              "      <td>Toronto</td>\n",
              "      <td>799999.0</td>\n",
              "      <td>#818 -60 SOUTHPORT ST</td>\n",
              "      <td>3</td>\n",
              "      <td>1</td>\n",
              "      <td>Ontario</td>\n",
              "      <td>5647656</td>\n",
              "      <td>43.7417</td>\n",
              "      <td>-79.3733</td>\n",
              "      <td>97000.0</td>\n",
              "    </tr>\n",
              "    <tr>\n",
              "      <th>2</th>\n",
              "      <td>Toronto</td>\n",
              "      <td>799900.0</td>\n",
              "      <td>#714 -859 THE QUEENSWAY</td>\n",
              "      <td>2</td>\n",
              "      <td>2</td>\n",
              "      <td>Ontario</td>\n",
              "      <td>5647656</td>\n",
              "      <td>43.7417</td>\n",
              "      <td>-79.3733</td>\n",
              "      <td>97000.0</td>\n",
              "    </tr>\n",
              "    <tr>\n",
              "      <th>3</th>\n",
              "      <td>Toronto</td>\n",
              "      <td>1200000.0</td>\n",
              "      <td>275 MORTIMER AVE</td>\n",
              "      <td>4</td>\n",
              "      <td>2</td>\n",
              "      <td>Ontario</td>\n",
              "      <td>5647656</td>\n",
              "      <td>43.7417</td>\n",
              "      <td>-79.3733</td>\n",
              "      <td>97000.0</td>\n",
              "    </tr>\n",
              "    <tr>\n",
              "      <th>4</th>\n",
              "      <td>Toronto</td>\n",
              "      <td>668800.0</td>\n",
              "      <td>#420 -388 RICHMOND ST</td>\n",
              "      <td>1</td>\n",
              "      <td>1</td>\n",
              "      <td>Ontario</td>\n",
              "      <td>5647656</td>\n",
              "      <td>43.7417</td>\n",
              "      <td>-79.3733</td>\n",
              "      <td>97000.0</td>\n",
              "    </tr>\n",
              "    <tr>\n",
              "      <th>...</th>\n",
              "      <td>...</td>\n",
              "      <td>...</td>\n",
              "      <td>...</td>\n",
              "      <td>...</td>\n",
              "      <td>...</td>\n",
              "      <td>...</td>\n",
              "      <td>...</td>\n",
              "      <td>...</td>\n",
              "      <td>...</td>\n",
              "      <td>...</td>\n",
              "    </tr>\n",
              "    <tr>\n",
              "      <th>33675</th>\n",
              "      <td>Regina</td>\n",
              "      <td>399900.0</td>\n",
              "      <td>1777 FORGET ST</td>\n",
              "      <td>4</td>\n",
              "      <td>1</td>\n",
              "      <td>Ontario</td>\n",
              "      <td>226404</td>\n",
              "      <td>50.4547</td>\n",
              "      <td>-104.6067</td>\n",
              "      <td>90000.0</td>\n",
              "    </tr>\n",
              "    <tr>\n",
              "      <th>34585</th>\n",
              "      <td>Saskatoon</td>\n",
              "      <td>1099900.0</td>\n",
              "      <td>2556 MAYFAIR</td>\n",
              "      <td>3</td>\n",
              "      <td>3</td>\n",
              "      <td>Ontario</td>\n",
              "      <td>266141</td>\n",
              "      <td>52.1333</td>\n",
              "      <td>-106.6833</td>\n",
              "      <td>89000.0</td>\n",
              "    </tr>\n",
              "    <tr>\n",
              "      <th>34586</th>\n",
              "      <td>Saskatoon</td>\n",
              "      <td>1149900.0</td>\n",
              "      <td>2552 MAYFAIR</td>\n",
              "      <td>4</td>\n",
              "      <td>3</td>\n",
              "      <td>Ontario</td>\n",
              "      <td>266141</td>\n",
              "      <td>52.1333</td>\n",
              "      <td>-106.6833</td>\n",
              "      <td>89000.0</td>\n",
              "    </tr>\n",
              "    <tr>\n",
              "      <th>34587</th>\n",
              "      <td>Saskatoon</td>\n",
              "      <td>1099900.0</td>\n",
              "      <td>2548 MAYFAIR</td>\n",
              "      <td>4</td>\n",
              "      <td>3</td>\n",
              "      <td>Ontario</td>\n",
              "      <td>266141</td>\n",
              "      <td>52.1333</td>\n",
              "      <td>-106.6833</td>\n",
              "      <td>89000.0</td>\n",
              "    </tr>\n",
              "    <tr>\n",
              "      <th>34588</th>\n",
              "      <td>Saskatoon</td>\n",
              "      <td>1199900.0</td>\n",
              "      <td>2544 MAYFAIR</td>\n",
              "      <td>4</td>\n",
              "      <td>3</td>\n",
              "      <td>Ontario</td>\n",
              "      <td>266141</td>\n",
              "      <td>52.1333</td>\n",
              "      <td>-106.6833</td>\n",
              "      <td>89000.0</td>\n",
              "    </tr>\n",
              "  </tbody>\n",
              "</table>\n",
              "<p>14015 rows × 10 columns</p>\n",
              "</div>"
            ],
            "text/plain": [
              "            City      Price                  Address  Number_Beds  \\\n",
              "0        Toronto   779900.0    #318 -20 SOUTHPORT ST            3   \n",
              "1        Toronto   799999.0    #818 -60 SOUTHPORT ST            3   \n",
              "2        Toronto   799900.0  #714 -859 THE QUEENSWAY            2   \n",
              "3        Toronto  1200000.0         275 MORTIMER AVE            4   \n",
              "4        Toronto   668800.0    #420 -388 RICHMOND ST            1   \n",
              "...          ...        ...                      ...          ...   \n",
              "33675     Regina   399900.0           1777 FORGET ST            4   \n",
              "34585  Saskatoon  1099900.0             2556 MAYFAIR            3   \n",
              "34586  Saskatoon  1149900.0             2552 MAYFAIR            4   \n",
              "34587  Saskatoon  1099900.0             2548 MAYFAIR            4   \n",
              "34588  Saskatoon  1199900.0             2544 MAYFAIR            4   \n",
              "\n",
              "       Number_Baths Province  Population  Latitude  Longitude  \\\n",
              "0                 2  Ontario     5647656   43.7417   -79.3733   \n",
              "1                 1  Ontario     5647656   43.7417   -79.3733   \n",
              "2                 2  Ontario     5647656   43.7417   -79.3733   \n",
              "3                 2  Ontario     5647656   43.7417   -79.3733   \n",
              "4                 1  Ontario     5647656   43.7417   -79.3733   \n",
              "...             ...      ...         ...       ...        ...   \n",
              "33675             1  Ontario      226404   50.4547  -104.6067   \n",
              "34585             3  Ontario      266141   52.1333  -106.6833   \n",
              "34586             3  Ontario      266141   52.1333  -106.6833   \n",
              "34587             3  Ontario      266141   52.1333  -106.6833   \n",
              "34588             3  Ontario      266141   52.1333  -106.6833   \n",
              "\n",
              "       Median_Family_Income  \n",
              "0                   97000.0  \n",
              "1                   97000.0  \n",
              "2                   97000.0  \n",
              "3                   97000.0  \n",
              "4                   97000.0  \n",
              "...                     ...  \n",
              "33675               90000.0  \n",
              "34585               89000.0  \n",
              "34586               89000.0  \n",
              "34587               89000.0  \n",
              "34588               89000.0  \n",
              "\n",
              "[14015 rows x 10 columns]"
            ]
          },
          "execution_count": 18,
          "metadata": {},
          "output_type": "execute_result"
        }
      ],
      "source": [
        "data"
      ]
    },
    {
      "cell_type": "code",
      "execution_count": null,
      "id": "14f33194",
      "metadata": {
        "id": "14f33194"
      },
      "outputs": [],
      "source": [
        "# for every city there are some family\n",
        "# toronto 200 families - range of income 1000 to 10000 median of their income"
      ]
    },
    {
      "cell_type": "code",
      "execution_count": null,
      "id": "1712eb89",
      "metadata": {
        "id": "1712eb89",
        "outputId": "fae0131a-5339-4323-dc9c-0aa5125fd5b7"
      },
      "outputs": [
        {
          "data": {
            "text/plain": [
              "21"
            ]
          },
          "execution_count": 20,
          "metadata": {},
          "output_type": "execute_result"
        }
      ],
      "source": [
        "len(data[\"Latitude\"].unique()) # out of 14015 rows (21)"
      ]
    },
    {
      "cell_type": "code",
      "execution_count": null,
      "id": "d534fc8f",
      "metadata": {
        "id": "d534fc8f",
        "outputId": "461a7277-cfbe-43aa-c3be-bf3cac639861"
      },
      "outputs": [
        {
          "data": {
            "text/plain": [
              "20"
            ]
          },
          "execution_count": 21,
          "metadata": {},
          "output_type": "execute_result"
        }
      ],
      "source": [
        "len(data[\"Longitude\"].unique()) # out of 14015 rows (20)"
      ]
    },
    {
      "cell_type": "code",
      "execution_count": null,
      "id": "73a545bf",
      "metadata": {
        "id": "73a545bf"
      },
      "outputs": [],
      "source": [
        "# latitude longitude - position on our map\n",
        "# different house it is useful\n",
        "# repeating values\n",
        "# lat long of only 20 house\n",
        "# whole dataset"
      ]
    },
    {
      "cell_type": "code",
      "execution_count": null,
      "id": "214a1d66",
      "metadata": {
        "id": "214a1d66",
        "outputId": "ab6ca825-905d-43b4-a80f-8710825e5699"
      },
      "outputs": [
        {
          "data": {
            "text/plain": [
              "18"
            ]
          },
          "execution_count": 23,
          "metadata": {},
          "output_type": "execute_result"
        }
      ],
      "source": [
        "len(data[\"Median_Family_Income\"].unique()) # out of 14015 rows (18) understable"
      ]
    },
    {
      "cell_type": "code",
      "execution_count": null,
      "id": "f6a6b35b",
      "metadata": {
        "id": "f6a6b35b",
        "outputId": "2217e11b-ebd2-48ee-ec28-aa36c3118ea9"
      },
      "outputs": [
        {
          "data": {
            "text/plain": [
              "array([ 97000.,  98000.,  83000.,  91000.,  92000.,  79500.,  77000.,\n",
              "       102000.,  82000.,  89000.,  90000.,  84000.,  85000.,  80000.,\n",
              "        79000.,  77500.,  73000., 133000.])"
            ]
          },
          "execution_count": 24,
          "metadata": {},
          "output_type": "execute_result"
        }
      ],
      "source": [
        "data[\"Median_Family_Income\"].unique()"
      ]
    },
    {
      "cell_type": "code",
      "execution_count": null,
      "id": "de498e1a",
      "metadata": {
        "id": "de498e1a",
        "outputId": "fff9f2a5-7974-4d67-dbef-e1d237799988"
      },
      "outputs": [
        {
          "data": {
            "text/plain": [
              "2389"
            ]
          },
          "execution_count": 31,
          "metadata": {},
          "output_type": "execute_result"
        }
      ],
      "source": [
        "len(data[\"Price\"].unique())"
      ]
    },
    {
      "cell_type": "code",
      "execution_count": null,
      "id": "40be4805",
      "metadata": {
        "id": "40be4805",
        "outputId": "e3939ab1-c901-4bc1-f727-9d5e943b6dca"
      },
      "outputs": [
        {
          "data": {
            "text/plain": [
              "21"
            ]
          },
          "execution_count": 32,
          "metadata": {},
          "output_type": "execute_result"
        }
      ],
      "source": [
        "len(data[\"City\"].unique())"
      ]
    },
    {
      "cell_type": "code",
      "execution_count": null,
      "id": "8e03f0cf",
      "metadata": {
        "id": "8e03f0cf",
        "outputId": "729a5ac8-729b-4083-d09b-e4ca800c3ef9"
      },
      "outputs": [
        {
          "data": {
            "text/plain": [
              "13747"
            ]
          },
          "execution_count": 17,
          "metadata": {},
          "output_type": "execute_result"
        }
      ],
      "source": [
        "len(data[\"Address\"].unique())"
      ]
    },
    {
      "cell_type": "code",
      "execution_count": null,
      "id": "5c82f755",
      "metadata": {
        "id": "5c82f755",
        "outputId": "261d0364-1534-489e-a1e9-4254d493801f"
      },
      "outputs": [
        {
          "data": {
            "text/plain": [
              "array(['Toronto', 'Ottawa', 'Winnipeg', 'Hamilton', 'Kitchener', 'London',\n",
              "       'St. Catharines', 'Oshawa', 'Windsor', 'Saskatoon', 'Regina',\n",
              "       'Barrie', 'Sudbury', 'Kingston', 'Guelph', 'Brantford',\n",
              "       'Thunder Bay', 'Peterborough', 'Nanaimo', 'Sault Ste. Marie',\n",
              "       'Caledon'], dtype=object)"
            ]
          },
          "execution_count": 54,
          "metadata": {},
          "output_type": "execute_result"
        }
      ],
      "source": [
        "data[\"City\"].unique()"
      ]
    },
    {
      "cell_type": "code",
      "execution_count": null,
      "id": "4874566c",
      "metadata": {
        "id": "4874566c",
        "outputId": "a2498704-b0da-4a3c-b611-a5facb5a2380"
      },
      "outputs": [
        {
          "data": {
            "text/plain": [
              "450 Dundas Street E           5\n",
              "140 CENTRAL Avenue            4\n",
              "15 GORDON Avenue              4\n",
              "17 BOWES Avenue               3\n",
              "851 QUEENSTON Road            3\n",
              "720 Grey Street               3\n",
              "600 NORTH SERVICE Road        3\n",
              "399 ELIZABETH Street          3\n",
              "36 JAMES Street S             3\n",
              "600 North Service Road        3\n",
              "895 MAPLE Avenue              3\n",
              "305 GARNER Road W             3\n",
              "2850 VICTORIA Street N        2\n",
              "56 SCOTS PINE Trail           2\n",
              "65 LEINSTER Avenue S          2\n",
              "36 BALMORAL Drive             2\n",
              "202 WHARNCLIFFE Road S        2\n",
              "#26 -2335 SHEPPARD AVE W      2\n",
              "101 SHOREVIEW Place           2\n",
              "347 TOWNSEND Drive            2\n",
              "182 PELHAM Road               2\n",
              "265 & 267 SPRINGBANK Drive    2\n",
              "387 & 389 GLENDALE Avenue     2\n",
              "71 BRISCOE Street E           2\n",
              "#115 -320 DIXON RD            2\n",
              "Name: Address, dtype: int64"
            ]
          },
          "execution_count": 19,
          "metadata": {},
          "output_type": "execute_result"
        }
      ],
      "source": [
        "data.Address.value_counts().head(25)"
      ]
    },
    {
      "cell_type": "code",
      "execution_count": null,
      "id": "3eee2d05",
      "metadata": {
        "id": "3eee2d05"
      },
      "outputs": [],
      "source": [
        "# fetures\n",
        "# city - median family income\n",
        "# number of beds\n",
        "# number of baths\n",
        "#\n",
        "# y - predict price"
      ]
    },
    {
      "cell_type": "code",
      "execution_count": null,
      "id": "d11c97af",
      "metadata": {
        "id": "d11c97af"
      },
      "outputs": [],
      "source": [
        "# we need to some features\n",
        "# more data in our dataset\n",
        "#"
      ]
    },
    {
      "cell_type": "code",
      "execution_count": null,
      "id": "119d2610",
      "metadata": {
        "id": "119d2610",
        "outputId": "82d9dae0-5343-40b4-d6a8-14ca9810e240"
      },
      "outputs": [
        {
          "data": {
            "text/html": [
              "<div>\n",
              "<style scoped>\n",
              "    .dataframe tbody tr th:only-of-type {\n",
              "        vertical-align: middle;\n",
              "    }\n",
              "\n",
              "    .dataframe tbody tr th {\n",
              "        vertical-align: top;\n",
              "    }\n",
              "\n",
              "    .dataframe thead th {\n",
              "        text-align: right;\n",
              "    }\n",
              "</style>\n",
              "<table border=\"1\" class=\"dataframe\">\n",
              "  <thead>\n",
              "    <tr style=\"text-align: right;\">\n",
              "      <th></th>\n",
              "      <th>City</th>\n",
              "      <th>Price</th>\n",
              "      <th>Address</th>\n",
              "      <th>Number_Beds</th>\n",
              "      <th>Number_Baths</th>\n",
              "      <th>Province</th>\n",
              "      <th>Population</th>\n",
              "      <th>Latitude</th>\n",
              "      <th>Longitude</th>\n",
              "      <th>Median_Family_Income</th>\n",
              "    </tr>\n",
              "  </thead>\n",
              "  <tbody>\n",
              "    <tr>\n",
              "      <th>0</th>\n",
              "      <td>Toronto</td>\n",
              "      <td>779900.0</td>\n",
              "      <td>#318 -20 SOUTHPORT ST</td>\n",
              "      <td>3</td>\n",
              "      <td>2</td>\n",
              "      <td>Ontario</td>\n",
              "      <td>5647656</td>\n",
              "      <td>43.7417</td>\n",
              "      <td>-79.3733</td>\n",
              "      <td>97000.0</td>\n",
              "    </tr>\n",
              "    <tr>\n",
              "      <th>1</th>\n",
              "      <td>Toronto</td>\n",
              "      <td>799999.0</td>\n",
              "      <td>#818 -60 SOUTHPORT ST</td>\n",
              "      <td>3</td>\n",
              "      <td>1</td>\n",
              "      <td>Ontario</td>\n",
              "      <td>5647656</td>\n",
              "      <td>43.7417</td>\n",
              "      <td>-79.3733</td>\n",
              "      <td>97000.0</td>\n",
              "    </tr>\n",
              "    <tr>\n",
              "      <th>2</th>\n",
              "      <td>Toronto</td>\n",
              "      <td>799900.0</td>\n",
              "      <td>#714 -859 THE QUEENSWAY</td>\n",
              "      <td>2</td>\n",
              "      <td>2</td>\n",
              "      <td>Ontario</td>\n",
              "      <td>5647656</td>\n",
              "      <td>43.7417</td>\n",
              "      <td>-79.3733</td>\n",
              "      <td>97000.0</td>\n",
              "    </tr>\n",
              "    <tr>\n",
              "      <th>3</th>\n",
              "      <td>Toronto</td>\n",
              "      <td>1200000.0</td>\n",
              "      <td>275 MORTIMER AVE</td>\n",
              "      <td>4</td>\n",
              "      <td>2</td>\n",
              "      <td>Ontario</td>\n",
              "      <td>5647656</td>\n",
              "      <td>43.7417</td>\n",
              "      <td>-79.3733</td>\n",
              "      <td>97000.0</td>\n",
              "    </tr>\n",
              "    <tr>\n",
              "      <th>4</th>\n",
              "      <td>Toronto</td>\n",
              "      <td>668800.0</td>\n",
              "      <td>#420 -388 RICHMOND ST</td>\n",
              "      <td>1</td>\n",
              "      <td>1</td>\n",
              "      <td>Ontario</td>\n",
              "      <td>5647656</td>\n",
              "      <td>43.7417</td>\n",
              "      <td>-79.3733</td>\n",
              "      <td>97000.0</td>\n",
              "    </tr>\n",
              "    <tr>\n",
              "      <th>...</th>\n",
              "      <td>...</td>\n",
              "      <td>...</td>\n",
              "      <td>...</td>\n",
              "      <td>...</td>\n",
              "      <td>...</td>\n",
              "      <td>...</td>\n",
              "      <td>...</td>\n",
              "      <td>...</td>\n",
              "      <td>...</td>\n",
              "      <td>...</td>\n",
              "    </tr>\n",
              "    <tr>\n",
              "      <th>35763</th>\n",
              "      <td>Halifax</td>\n",
              "      <td>439900.0</td>\n",
              "      <td>301 60 Walter Havill Drive</td>\n",
              "      <td>2</td>\n",
              "      <td>2</td>\n",
              "      <td>Nova Scotia</td>\n",
              "      <td>431479</td>\n",
              "      <td>44.8857</td>\n",
              "      <td>63.1005</td>\n",
              "      <td>86753.0</td>\n",
              "    </tr>\n",
              "    <tr>\n",
              "      <th>35764</th>\n",
              "      <td>Halifax</td>\n",
              "      <td>6990000.0</td>\n",
              "      <td>1160 Rockcliffe Street</td>\n",
              "      <td>5</td>\n",
              "      <td>5</td>\n",
              "      <td>Nova Scotia</td>\n",
              "      <td>431479</td>\n",
              "      <td>44.8857</td>\n",
              "      <td>63.1005</td>\n",
              "      <td>86753.0</td>\n",
              "    </tr>\n",
              "    <tr>\n",
              "      <th>35765</th>\n",
              "      <td>Halifax</td>\n",
              "      <td>419900.0</td>\n",
              "      <td>212 60 Walter Havill Drive</td>\n",
              "      <td>2</td>\n",
              "      <td>2</td>\n",
              "      <td>Nova Scotia</td>\n",
              "      <td>431479</td>\n",
              "      <td>44.8857</td>\n",
              "      <td>63.1005</td>\n",
              "      <td>86753.0</td>\n",
              "    </tr>\n",
              "    <tr>\n",
              "      <th>35766</th>\n",
              "      <td>Halifax</td>\n",
              "      <td>949900.0</td>\n",
              "      <td>10 Idlewylde Road</td>\n",
              "      <td>3</td>\n",
              "      <td>1</td>\n",
              "      <td>Nova Scotia</td>\n",
              "      <td>431479</td>\n",
              "      <td>44.8857</td>\n",
              "      <td>63.1005</td>\n",
              "      <td>86753.0</td>\n",
              "    </tr>\n",
              "    <tr>\n",
              "      <th>35767</th>\n",
              "      <td>Halifax</td>\n",
              "      <td>592900.0</td>\n",
              "      <td>208 2842-2856 Gottingen</td>\n",
              "      <td>2</td>\n",
              "      <td>1</td>\n",
              "      <td>Nova Scotia</td>\n",
              "      <td>431479</td>\n",
              "      <td>44.8857</td>\n",
              "      <td>63.1005</td>\n",
              "      <td>86753.0</td>\n",
              "    </tr>\n",
              "  </tbody>\n",
              "</table>\n",
              "<p>35768 rows × 10 columns</p>\n",
              "</div>"
            ],
            "text/plain": [
              "          City      Price                     Address  Number_Beds  \\\n",
              "0      Toronto   779900.0       #318 -20 SOUTHPORT ST            3   \n",
              "1      Toronto   799999.0       #818 -60 SOUTHPORT ST            3   \n",
              "2      Toronto   799900.0     #714 -859 THE QUEENSWAY            2   \n",
              "3      Toronto  1200000.0            275 MORTIMER AVE            4   \n",
              "4      Toronto   668800.0       #420 -388 RICHMOND ST            1   \n",
              "...        ...        ...                         ...          ...   \n",
              "35763  Halifax   439900.0  301 60 Walter Havill Drive            2   \n",
              "35764  Halifax  6990000.0      1160 Rockcliffe Street            5   \n",
              "35765  Halifax   419900.0  212 60 Walter Havill Drive            2   \n",
              "35766  Halifax   949900.0           10 Idlewylde Road            3   \n",
              "35767  Halifax   592900.0     208 2842-2856 Gottingen            2   \n",
              "\n",
              "       Number_Baths     Province  Population  Latitude  Longitude  \\\n",
              "0                 2      Ontario     5647656   43.7417   -79.3733   \n",
              "1                 1      Ontario     5647656   43.7417   -79.3733   \n",
              "2                 2      Ontario     5647656   43.7417   -79.3733   \n",
              "3                 2      Ontario     5647656   43.7417   -79.3733   \n",
              "4                 1      Ontario     5647656   43.7417   -79.3733   \n",
              "...             ...          ...         ...       ...        ...   \n",
              "35763             2  Nova Scotia      431479   44.8857    63.1005   \n",
              "35764             5  Nova Scotia      431479   44.8857    63.1005   \n",
              "35765             2  Nova Scotia      431479   44.8857    63.1005   \n",
              "35766             1  Nova Scotia      431479   44.8857    63.1005   \n",
              "35767             1  Nova Scotia      431479   44.8857    63.1005   \n",
              "\n",
              "       Median_Family_Income  \n",
              "0                   97000.0  \n",
              "1                   97000.0  \n",
              "2                   97000.0  \n",
              "3                   97000.0  \n",
              "4                   97000.0  \n",
              "...                     ...  \n",
              "35763               86753.0  \n",
              "35764               86753.0  \n",
              "35765               86753.0  \n",
              "35766               86753.0  \n",
              "35767               86753.0  \n",
              "\n",
              "[35768 rows x 10 columns]"
            ]
          },
          "execution_count": 25,
          "metadata": {},
          "output_type": "execute_result"
        }
      ],
      "source": [
        "df"
      ]
    },
    {
      "cell_type": "code",
      "execution_count": null,
      "id": "e1c75d73",
      "metadata": {
        "id": "e1c75d73"
      },
      "outputs": [],
      "source": [
        "tor = df[df[\"City\"]==\"Toronto\"]"
      ]
    },
    {
      "cell_type": "code",
      "execution_count": null,
      "id": "b80824a6",
      "metadata": {
        "id": "b80824a6",
        "outputId": "017165ce-2bc9-478a-b5b8-dd722670ec3a"
      },
      "outputs": [
        {
          "data": {
            "text/html": [
              "<div>\n",
              "<style scoped>\n",
              "    .dataframe tbody tr th:only-of-type {\n",
              "        vertical-align: middle;\n",
              "    }\n",
              "\n",
              "    .dataframe tbody tr th {\n",
              "        vertical-align: top;\n",
              "    }\n",
              "\n",
              "    .dataframe thead th {\n",
              "        text-align: right;\n",
              "    }\n",
              "</style>\n",
              "<table border=\"1\" class=\"dataframe\">\n",
              "  <thead>\n",
              "    <tr style=\"text-align: right;\">\n",
              "      <th></th>\n",
              "      <th>City</th>\n",
              "      <th>Price</th>\n",
              "      <th>Address</th>\n",
              "      <th>Number_Beds</th>\n",
              "      <th>Number_Baths</th>\n",
              "      <th>Province</th>\n",
              "      <th>Population</th>\n",
              "      <th>Latitude</th>\n",
              "      <th>Longitude</th>\n",
              "      <th>Median_Family_Income</th>\n",
              "    </tr>\n",
              "  </thead>\n",
              "  <tbody>\n",
              "    <tr>\n",
              "      <th>0</th>\n",
              "      <td>Toronto</td>\n",
              "      <td>779900.0</td>\n",
              "      <td>#318 -20 SOUTHPORT ST</td>\n",
              "      <td>3</td>\n",
              "      <td>2</td>\n",
              "      <td>Ontario</td>\n",
              "      <td>5647656</td>\n",
              "      <td>43.7417</td>\n",
              "      <td>-79.3733</td>\n",
              "      <td>97000.0</td>\n",
              "    </tr>\n",
              "    <tr>\n",
              "      <th>1</th>\n",
              "      <td>Toronto</td>\n",
              "      <td>799999.0</td>\n",
              "      <td>#818 -60 SOUTHPORT ST</td>\n",
              "      <td>3</td>\n",
              "      <td>1</td>\n",
              "      <td>Ontario</td>\n",
              "      <td>5647656</td>\n",
              "      <td>43.7417</td>\n",
              "      <td>-79.3733</td>\n",
              "      <td>97000.0</td>\n",
              "    </tr>\n",
              "    <tr>\n",
              "      <th>2</th>\n",
              "      <td>Toronto</td>\n",
              "      <td>799900.0</td>\n",
              "      <td>#714 -859 THE QUEENSWAY</td>\n",
              "      <td>2</td>\n",
              "      <td>2</td>\n",
              "      <td>Ontario</td>\n",
              "      <td>5647656</td>\n",
              "      <td>43.7417</td>\n",
              "      <td>-79.3733</td>\n",
              "      <td>97000.0</td>\n",
              "    </tr>\n",
              "    <tr>\n",
              "      <th>3</th>\n",
              "      <td>Toronto</td>\n",
              "      <td>1200000.0</td>\n",
              "      <td>275 MORTIMER AVE</td>\n",
              "      <td>4</td>\n",
              "      <td>2</td>\n",
              "      <td>Ontario</td>\n",
              "      <td>5647656</td>\n",
              "      <td>43.7417</td>\n",
              "      <td>-79.3733</td>\n",
              "      <td>97000.0</td>\n",
              "    </tr>\n",
              "    <tr>\n",
              "      <th>4</th>\n",
              "      <td>Toronto</td>\n",
              "      <td>668800.0</td>\n",
              "      <td>#420 -388 RICHMOND ST</td>\n",
              "      <td>1</td>\n",
              "      <td>1</td>\n",
              "      <td>Ontario</td>\n",
              "      <td>5647656</td>\n",
              "      <td>43.7417</td>\n",
              "      <td>-79.3733</td>\n",
              "      <td>97000.0</td>\n",
              "    </tr>\n",
              "    <tr>\n",
              "      <th>...</th>\n",
              "      <td>...</td>\n",
              "      <td>...</td>\n",
              "      <td>...</td>\n",
              "      <td>...</td>\n",
              "      <td>...</td>\n",
              "      <td>...</td>\n",
              "      <td>...</td>\n",
              "      <td>...</td>\n",
              "      <td>...</td>\n",
              "      <td>...</td>\n",
              "    </tr>\n",
              "    <tr>\n",
              "      <th>1271</th>\n",
              "      <td>Toronto</td>\n",
              "      <td>598000.0</td>\n",
              "      <td>#107 -99 THE DONWAY  W</td>\n",
              "      <td>2</td>\n",
              "      <td>2</td>\n",
              "      <td>Ontario</td>\n",
              "      <td>5647656</td>\n",
              "      <td>43.7417</td>\n",
              "      <td>-79.3733</td>\n",
              "      <td>97000.0</td>\n",
              "    </tr>\n",
              "    <tr>\n",
              "      <th>1272</th>\n",
              "      <td>Toronto</td>\n",
              "      <td>2199000.0</td>\n",
              "      <td>119 CASTLEFIELD AVE</td>\n",
              "      <td>4</td>\n",
              "      <td>4</td>\n",
              "      <td>Ontario</td>\n",
              "      <td>5647656</td>\n",
              "      <td>43.7417</td>\n",
              "      <td>-79.3733</td>\n",
              "      <td>97000.0</td>\n",
              "    </tr>\n",
              "    <tr>\n",
              "      <th>1273</th>\n",
              "      <td>Toronto</td>\n",
              "      <td>829000.0</td>\n",
              "      <td>#524 -40 SYLVAN VALLEYWAY</td>\n",
              "      <td>2</td>\n",
              "      <td>2</td>\n",
              "      <td>Ontario</td>\n",
              "      <td>5647656</td>\n",
              "      <td>43.7417</td>\n",
              "      <td>-79.3733</td>\n",
              "      <td>97000.0</td>\n",
              "    </tr>\n",
              "    <tr>\n",
              "      <th>1274</th>\n",
              "      <td>Toronto</td>\n",
              "      <td>2300000.0</td>\n",
              "      <td>133 COWAN AVE</td>\n",
              "      <td>4</td>\n",
              "      <td>4</td>\n",
              "      <td>Ontario</td>\n",
              "      <td>5647656</td>\n",
              "      <td>43.7417</td>\n",
              "      <td>-79.3733</td>\n",
              "      <td>97000.0</td>\n",
              "    </tr>\n",
              "    <tr>\n",
              "      <th>1275</th>\n",
              "      <td>Toronto</td>\n",
              "      <td>599000.0</td>\n",
              "      <td>#421 -628 FLEET ST</td>\n",
              "      <td>2</td>\n",
              "      <td>1</td>\n",
              "      <td>Ontario</td>\n",
              "      <td>5647656</td>\n",
              "      <td>43.7417</td>\n",
              "      <td>-79.3733</td>\n",
              "      <td>97000.0</td>\n",
              "    </tr>\n",
              "  </tbody>\n",
              "</table>\n",
              "<p>1276 rows × 10 columns</p>\n",
              "</div>"
            ],
            "text/plain": [
              "         City      Price                    Address  Number_Beds  \\\n",
              "0     Toronto   779900.0      #318 -20 SOUTHPORT ST            3   \n",
              "1     Toronto   799999.0      #818 -60 SOUTHPORT ST            3   \n",
              "2     Toronto   799900.0    #714 -859 THE QUEENSWAY            2   \n",
              "3     Toronto  1200000.0           275 MORTIMER AVE            4   \n",
              "4     Toronto   668800.0      #420 -388 RICHMOND ST            1   \n",
              "...       ...        ...                        ...          ...   \n",
              "1271  Toronto   598000.0     #107 -99 THE DONWAY  W            2   \n",
              "1272  Toronto  2199000.0        119 CASTLEFIELD AVE            4   \n",
              "1273  Toronto   829000.0  #524 -40 SYLVAN VALLEYWAY            2   \n",
              "1274  Toronto  2300000.0              133 COWAN AVE            4   \n",
              "1275  Toronto   599000.0         #421 -628 FLEET ST            2   \n",
              "\n",
              "      Number_Baths Province  Population  Latitude  Longitude  \\\n",
              "0                2  Ontario     5647656   43.7417   -79.3733   \n",
              "1                1  Ontario     5647656   43.7417   -79.3733   \n",
              "2                2  Ontario     5647656   43.7417   -79.3733   \n",
              "3                2  Ontario     5647656   43.7417   -79.3733   \n",
              "4                1  Ontario     5647656   43.7417   -79.3733   \n",
              "...            ...      ...         ...       ...        ...   \n",
              "1271             2  Ontario     5647656   43.7417   -79.3733   \n",
              "1272             4  Ontario     5647656   43.7417   -79.3733   \n",
              "1273             2  Ontario     5647656   43.7417   -79.3733   \n",
              "1274             4  Ontario     5647656   43.7417   -79.3733   \n",
              "1275             1  Ontario     5647656   43.7417   -79.3733   \n",
              "\n",
              "      Median_Family_Income  \n",
              "0                  97000.0  \n",
              "1                  97000.0  \n",
              "2                  97000.0  \n",
              "3                  97000.0  \n",
              "4                  97000.0  \n",
              "...                    ...  \n",
              "1271               97000.0  \n",
              "1272               97000.0  \n",
              "1273               97000.0  \n",
              "1274               97000.0  \n",
              "1275               97000.0  \n",
              "\n",
              "[1276 rows x 10 columns]"
            ]
          },
          "execution_count": 32,
          "metadata": {},
          "output_type": "execute_result"
        }
      ],
      "source": [
        "tor # 1276"
      ]
    },
    {
      "cell_type": "code",
      "execution_count": null,
      "id": "f361c5b7",
      "metadata": {
        "id": "f361c5b7"
      },
      "outputs": [],
      "source": [
        "# poor middle rich # differet income"
      ]
    },
    {
      "cell_type": "code",
      "execution_count": null,
      "id": "ba551372",
      "metadata": {
        "id": "ba551372",
        "outputId": "2e1df396-2fc0-4c38-d12c-2da670353b52"
      },
      "outputs": [
        {
          "data": {
            "text/plain": [
              "array([97000.])"
            ]
          },
          "execution_count": 33,
          "metadata": {},
          "output_type": "execute_result"
        }
      ],
      "source": [
        "tor[\"Median_Family_Income\"].unique()"
      ]
    },
    {
      "cell_type": "code",
      "execution_count": null,
      "id": "a729c5ae",
      "metadata": {
        "id": "a729c5ae"
      },
      "outputs": [],
      "source": [
        "# 97k"
      ]
    },
    {
      "cell_type": "code",
      "execution_count": null,
      "id": "6b4a7c03",
      "metadata": {
        "id": "6b4a7c03",
        "outputId": "ffb889bb-fa2b-4f65-ece0-62f453646ab0"
      },
      "outputs": [
        {
          "data": {
            "text/plain": [
              "899000.0     21\n",
              "599000.0     19\n",
              "1099000.0    17\n",
              "799000.0     17\n",
              "699000.0     15\n",
              "749900.0     13\n",
              "999000.0     12\n",
              "649000.0     11\n",
              "599900.0     11\n",
              "499000.0     10\n",
              "899900.0     10\n",
              "929000.0     10\n",
              "1399000.0    10\n",
              "749000.0     10\n",
              "799900.0      9\n",
              "1499000.0     9\n",
              "499999.0      8\n",
              "1799000.0     8\n",
              "650000.0      8\n",
              "699900.0      8\n",
              "949000.0      8\n",
              "1649000.0     7\n",
              "1299000.0     7\n",
              "1699000.0     7\n",
              "1250000.0     7\n",
              "Name: Price, dtype: int64"
            ]
          },
          "execution_count": 35,
          "metadata": {},
          "output_type": "execute_result"
        }
      ],
      "source": [
        "tor.Price.value_counts().head(25)"
      ]
    },
    {
      "cell_type": "code",
      "execution_count": null,
      "id": "20881ec0",
      "metadata": {
        "id": "20881ec0"
      },
      "outputs": [],
      "source": []
    },
    {
      "cell_type": "code",
      "execution_count": null,
      "id": "bb4639e8",
      "metadata": {
        "id": "bb4639e8",
        "outputId": "7407fd01-c8d3-4e43-e6b6-0d3894e4c5ab"
      },
      "outputs": [
        {
          "data": {
            "text/plain": [
              "45"
            ]
          },
          "execution_count": 26,
          "metadata": {},
          "output_type": "execute_result"
        }
      ],
      "source": [
        "len(df[\"Latitude\"].unique())"
      ]
    },
    {
      "cell_type": "code",
      "execution_count": null,
      "id": "b9c0a175",
      "metadata": {
        "id": "b9c0a175",
        "outputId": "84f74bb4-360f-48f4-daf8-c2042410bd53"
      },
      "outputs": [
        {
          "data": {
            "text/plain": [
              "44"
            ]
          },
          "execution_count": 27,
          "metadata": {},
          "output_type": "execute_result"
        }
      ],
      "source": [
        "len(df[\"Longitude\"].unique())"
      ]
    },
    {
      "cell_type": "code",
      "execution_count": null,
      "id": "e11976fb",
      "metadata": {
        "id": "e11976fb",
        "outputId": "74cc2ebd-7d17-4012-d90c-b579aa027a04"
      },
      "outputs": [
        {
          "data": {
            "text/plain": [
              "32"
            ]
          },
          "execution_count": 29,
          "metadata": {},
          "output_type": "execute_result"
        }
      ],
      "source": [
        "len(df[\"Median_Family_Income\"].unique())"
      ]
    },
    {
      "cell_type": "code",
      "execution_count": null,
      "id": "f049cb0c",
      "metadata": {
        "id": "f049cb0c",
        "outputId": "22179a00-52be-458c-add4-6ddce8cf2858"
      },
      "outputs": [
        {
          "data": {
            "text/plain": [
              "45"
            ]
          },
          "execution_count": 30,
          "metadata": {},
          "output_type": "execute_result"
        }
      ],
      "source": [
        "len(df[\"City\"].unique())"
      ]
    },
    {
      "cell_type": "code",
      "execution_count": 1,
      "id": "0c3c47d9",
      "metadata": {
        "id": "0c3c47d9"
      },
      "outputs": [],
      "source": [
        "# in this dataset only two features numbers of beds and baths are usefull\n",
        "# The rest features like latitude, longitude, family income and price has a lot of repeating values/same values these are the 2 main reason that I think we should change the dataset."
      ]
    },
    {
      "cell_type": "code",
      "source": [],
      "metadata": {
        "id": "H5ef22ETOuCn"
      },
      "id": "H5ef22ETOuCn",
      "execution_count": null,
      "outputs": []
    }
  ],
  "metadata": {
    "kernelspec": {
      "display_name": "Python 3 (ipykernel)",
      "language": "python",
      "name": "python3"
    },
    "language_info": {
      "codemirror_mode": {
        "name": "ipython",
        "version": 3
      },
      "file_extension": ".py",
      "mimetype": "text/x-python",
      "name": "python",
      "nbconvert_exporter": "python",
      "pygments_lexer": "ipython3",
      "version": "3.10.9"
    },
    "colab": {
      "provenance": [],
      "include_colab_link": true
    }
  },
  "nbformat": 4,
  "nbformat_minor": 5
}