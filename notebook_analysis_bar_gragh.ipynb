{
  "cells": [
    {
      "cell_type": "markdown",
      "metadata": {
        "id": "view-in-github",
        "colab_type": "text"
      },
      "source": [
        "<a href=\"https://colab.research.google.com/github/tylerphonglam/Project4-Homepriceprediction/blob/main/notebook_analysis_bar_gragh.ipynb\" target=\"_parent\"><img src=\"https://colab.research.google.com/assets/colab-badge.svg\" alt=\"Open In Colab\"/></a>"
      ]
    },
    {
      "cell_type": "code",
      "execution_count": null,
      "id": "fb7a8827",
      "metadata": {
        "id": "fb7a8827"
      },
      "outputs": [],
      "source": [
        "# !pip install ipywidgets"
      ]
    },
    {
      "cell_type": "code",
      "execution_count": null,
      "id": "92dd0f08",
      "metadata": {
        "id": "92dd0f08"
      },
      "outputs": [],
      "source": [
        "import pandas as pd\n",
        "import numpy as np\n",
        "import matplotlib.pyplot as plt\n",
        "import ipywidgets as widgets\n",
        "from IPython.display import display"
      ]
    },
    {
      "cell_type": "code",
      "execution_count": null,
      "id": "ebff199c",
      "metadata": {
        "id": "ebff199c"
      },
      "outputs": [],
      "source": [
        "import warnings\n",
        "\n",
        "# Filter out any warnings\n",
        "warnings.filterwarnings(\"ignore\")\n"
      ]
    },
    {
      "cell_type": "code",
      "execution_count": null,
      "id": "9ac42ffa",
      "metadata": {
        "id": "9ac42ffa"
      },
      "outputs": [],
      "source": [
        "df = pd.read_csv(\"https://raw.githubusercontent.com/tylerphonglam/Project4-Homepriceprediction/main/ontario.csv\")"
      ]
    },
    {
      "cell_type": "code",
      "execution_count": null,
      "id": "46795f63",
      "metadata": {
        "id": "46795f63"
      },
      "outputs": [],
      "source": []
    },
    {
      "cell_type": "code",
      "execution_count": null,
      "id": "f358117f",
      "metadata": {
        "id": "f358117f"
      },
      "outputs": [],
      "source": [
        "data = df.groupby([\"City\", \"Number_Beds\", \"Number_Baths\"]).aggregate({\"Price\": \"mean\"}).reset_index()"
      ]
    },
    {
      "cell_type": "code",
      "execution_count": null,
      "id": "ba92fe13",
      "metadata": {
        "id": "ba92fe13"
      },
      "outputs": [],
      "source": [
        "def update_plot(change):\n",
        "    select_baths.options = data[data[\"Number_Beds\"] == change.new][\"Number_Baths\"].unique()\n",
        "\n",
        "def plot_graph(beds, baths):\n",
        "    df1 = data[(data[\"Number_Beds\"] == beds) & (data[\"Number_Baths\"] == baths)]\n",
        "    df1.sort_values(by=\"Price\", inplace=True)\n",
        "\n",
        "    # Create a bar graph using Matplotlib\n",
        "    plt.figure(figsize=(10, 6))\n",
        "    plt.bar(df1['City'], df1['Price'], color='blue')\n",
        "\n",
        "    # Customize the appearance\n",
        "    plt.xlabel('City')\n",
        "    plt.ylabel('Price')\n",
        "    plt.title(f'House Prices in Different Cities\\n(Beds: {beds}, Baths: {baths})')\n",
        "    plt.xticks(rotation=45, ha=\"right\")\n",
        "\n",
        "    # Show the plot\n",
        "    plt.show()"
      ]
    },
    {
      "cell_type": "code",
      "execution_count": null,
      "id": "9644ead8",
      "metadata": {
        "id": "9644ead8"
      },
      "outputs": [],
      "source": [
        "list1 = [0, 1, 2, 3, 4, 5, 6, 7, 8, 9]"
      ]
    },
    {
      "cell_type": "code",
      "execution_count": null,
      "id": "84c036ad",
      "metadata": {
        "id": "84c036ad"
      },
      "outputs": [],
      "source": [
        "select_beds = widgets.Dropdown(\n",
        "    options=list1,\n",
        "    value=list1[0],\n",
        "    description='Beds:',\n",
        "    disabled=False,\n",
        ")\n",
        "select_beds.observe(update_plot, names='value')"
      ]
    },
    {
      "cell_type": "code",
      "execution_count": null,
      "id": "11f6ead3",
      "metadata": {
        "id": "11f6ead3"
      },
      "outputs": [],
      "source": [
        "select_baths = widgets.Dropdown(\n",
        "    options=data[data[\"Number_Beds\"] == list1[0]][\"Number_Baths\"].unique(),\n",
        "    value=data[data[\"Number_Beds\"] == list1[0]][\"Number_Baths\"].unique()[0],\n",
        "    description='Baths:',\n",
        "    disabled=False,\n",
        ")"
      ]
    },
    {
      "cell_type": "code",
      "execution_count": null,
      "id": "9b163946",
      "metadata": {
        "colab": {
          "referenced_widgets": [
            "5542a73579b44c7bbd3d3cf8d5f281ab"
          ]
        },
        "id": "9b163946",
        "outputId": "beaca777-c81d-44b5-b680-54ef84ab1427"
      },
      "outputs": [
        {
          "data": {
            "application/vnd.jupyter.widget-view+json": {
              "model_id": "5542a73579b44c7bbd3d3cf8d5f281ab",
              "version_major": 2,
              "version_minor": 0
            },
            "text/plain": [
              "interactive(children=(Dropdown(description='Beds:', options=(0, 1, 2, 3, 4, 5, 6, 7, 8, 9), value=0), Dropdown…"
            ]
          },
          "metadata": {},
          "output_type": "display_data"
        }
      ],
      "source": [
        "widgets.interactive(plot_graph, beds=select_beds, baths=select_baths)"
      ]
    },
    {
      "cell_type": "code",
      "execution_count": null,
      "id": "491e42b9",
      "metadata": {
        "id": "491e42b9"
      },
      "outputs": [],
      "source": [
        "# list_nbeds = df[\"Number_Beds\"].unique()\n",
        "list_nbeds = [0,1,2,3,4,5,6,7,8,9]"
      ]
    },
    {
      "cell_type": "code",
      "execution_count": null,
      "id": "fcd0f410",
      "metadata": {
        "id": "fcd0f410"
      },
      "outputs": [],
      "source": [
        "data2 = df[df[\"Number_Beds\"].isin(list_nbeds)]"
      ]
    },
    {
      "cell_type": "code",
      "execution_count": null,
      "id": "0dcd20b0",
      "metadata": {
        "id": "0dcd20b0",
        "outputId": "7907d46f-7ed2-4490-97f7-41da1021919b"
      },
      "outputs": [
        {
          "data": {
            "text/plain": [
              "((14015, 10), (13954, 10))"
            ]
          },
          "execution_count": 48,
          "metadata": {},
          "output_type": "execute_result"
        }
      ],
      "source": [
        "df.shape,data2.shape"
      ]
    },
    {
      "cell_type": "code",
      "execution_count": null,
      "id": "fe469cc8",
      "metadata": {
        "id": "fe469cc8"
      },
      "outputs": [],
      "source": [
        "# 61 rows are dropped -- data cleaning"
      ]
    },
    {
      "cell_type": "code",
      "execution_count": null,
      "id": "db078365",
      "metadata": {
        "id": "db078365"
      },
      "outputs": [],
      "source": [
        "data3 = data2.groupby([\"Number_Beds\"]).aggregate({\"Price\": \"mean\"}).reset_index()"
      ]
    },
    {
      "cell_type": "code",
      "execution_count": null,
      "id": "c8d1f2bd",
      "metadata": {
        "id": "c8d1f2bd"
      },
      "outputs": [],
      "source": [
        "data3[\"Number_Beds\"] = data3[\"Number_Beds\"].astype(str)"
      ]
    },
    {
      "cell_type": "code",
      "execution_count": null,
      "id": "f3845c7a",
      "metadata": {
        "id": "f3845c7a"
      },
      "outputs": [],
      "source": [
        "data3.sort_values(by=\"Price\",inplace=True)"
      ]
    },
    {
      "cell_type": "code",
      "execution_count": null,
      "id": "d980a2f3",
      "metadata": {
        "id": "d980a2f3",
        "outputId": "76f026e6-4f0d-4c31-afa4-690722efa394"
      },
      "outputs": [
        {
          "data": {
            "text/html": [
              "<div>\n",
              "<style scoped>\n",
              "    .dataframe tbody tr th:only-of-type {\n",
              "        vertical-align: middle;\n",
              "    }\n",
              "\n",
              "    .dataframe tbody tr th {\n",
              "        vertical-align: top;\n",
              "    }\n",
              "\n",
              "    .dataframe thead th {\n",
              "        text-align: right;\n",
              "    }\n",
              "</style>\n",
              "<table border=\"1\" class=\"dataframe\">\n",
              "  <thead>\n",
              "    <tr style=\"text-align: right;\">\n",
              "      <th></th>\n",
              "      <th>Number_Beds</th>\n",
              "      <th>Price</th>\n",
              "    </tr>\n",
              "  </thead>\n",
              "  <tbody>\n",
              "    <tr>\n",
              "      <th>1</th>\n",
              "      <td>1</td>\n",
              "      <td>4.973675e+05</td>\n",
              "    </tr>\n",
              "    <tr>\n",
              "      <th>2</th>\n",
              "      <td>2</td>\n",
              "      <td>6.553747e+05</td>\n",
              "    </tr>\n",
              "    <tr>\n",
              "      <th>0</th>\n",
              "      <td>0</td>\n",
              "      <td>7.052746e+05</td>\n",
              "    </tr>\n",
              "    <tr>\n",
              "      <th>3</th>\n",
              "      <td>3</td>\n",
              "      <td>8.081843e+05</td>\n",
              "    </tr>\n",
              "    <tr>\n",
              "      <th>4</th>\n",
              "      <td>4</td>\n",
              "      <td>1.091661e+06</td>\n",
              "    </tr>\n",
              "    <tr>\n",
              "      <th>5</th>\n",
              "      <td>5</td>\n",
              "      <td>1.342872e+06</td>\n",
              "    </tr>\n",
              "    <tr>\n",
              "      <th>6</th>\n",
              "      <td>6</td>\n",
              "      <td>1.457019e+06</td>\n",
              "    </tr>\n",
              "    <tr>\n",
              "      <th>9</th>\n",
              "      <td>9</td>\n",
              "      <td>1.501952e+06</td>\n",
              "    </tr>\n",
              "    <tr>\n",
              "      <th>7</th>\n",
              "      <td>7</td>\n",
              "      <td>1.589354e+06</td>\n",
              "    </tr>\n",
              "    <tr>\n",
              "      <th>8</th>\n",
              "      <td>8</td>\n",
              "      <td>1.882766e+06</td>\n",
              "    </tr>\n",
              "  </tbody>\n",
              "</table>\n",
              "</div>"
            ],
            "text/plain": [
              "  Number_Beds         Price\n",
              "1           1  4.973675e+05\n",
              "2           2  6.553747e+05\n",
              "0           0  7.052746e+05\n",
              "3           3  8.081843e+05\n",
              "4           4  1.091661e+06\n",
              "5           5  1.342872e+06\n",
              "6           6  1.457019e+06\n",
              "9           9  1.501952e+06\n",
              "7           7  1.589354e+06\n",
              "8           8  1.882766e+06"
            ]
          },
          "execution_count": 53,
          "metadata": {},
          "output_type": "execute_result"
        }
      ],
      "source": [
        "data3"
      ]
    },
    {
      "cell_type": "code",
      "execution_count": null,
      "id": "4808d663",
      "metadata": {
        "id": "4808d663",
        "outputId": "d089dd79-e25e-449f-9d52-9f97e22f72c2"
      },
      "outputs": [
        {
          "data": {
            "image/png": "[encoded data removed]",
            "text/plain": [
              "<Figure size 640x480 with 1 Axes>"
            ]
          },
          "metadata": {},
          "output_type": "display_data"
        }
      ],
      "source": [
        "plt.bar(data3['Number_Beds'], data3['Price'])\n",
        "\n",
        "# Adding labels to the axes\n",
        "plt.xlabel('Number_Beds')\n",
        "plt.ylabel('Price')\n",
        "\n",
        "\n",
        "# Adding a title to the plot\n",
        "plt.title('Plotting Number_Beds vs Price')\n",
        "\n",
        "# Display the plot\n",
        "plt.show()"
      ]
    },
    {
      "cell_type": "code",
      "execution_count": null,
      "id": "a2082f07",
      "metadata": {
        "id": "a2082f07"
      },
      "outputs": [],
      "source": []
    },
    {
      "cell_type": "code",
      "execution_count": null,
      "id": "bee1ccbc",
      "metadata": {
        "id": "bee1ccbc"
      },
      "outputs": [],
      "source": [
        "list_nb = df[\"Number_Baths\"].unique()"
      ]
    },
    {
      "cell_type": "code",
      "execution_count": null,
      "id": "a2d8f8d3",
      "metadata": {
        "id": "a2d8f8d3"
      },
      "outputs": [],
      "source": [
        "data2 = df[df[\"Number_Baths\"].isin(list_nb)]"
      ]
    },
    {
      "cell_type": "code",
      "execution_count": null,
      "id": "430348e4",
      "metadata": {
        "id": "430348e4"
      },
      "outputs": [],
      "source": [
        "data3 = data2.groupby([\"Number_Baths\"]).aggregate({\"Price\": \"mean\"}).reset_index()"
      ]
    },
    {
      "cell_type": "code",
      "execution_count": null,
      "id": "62e6f234",
      "metadata": {
        "id": "62e6f234"
      },
      "outputs": [],
      "source": [
        "data3[\"Number_Baths\"] = data3[\"Number_Baths\"].astype(str)"
      ]
    },
    {
      "cell_type": "code",
      "execution_count": null,
      "id": "1800838a",
      "metadata": {
        "id": "1800838a"
      },
      "outputs": [],
      "source": [
        "data3.sort_values(by=\"Price\",inplace=True)"
      ]
    },
    {
      "cell_type": "code",
      "execution_count": null,
      "id": "415ccaa9",
      "metadata": {
        "id": "415ccaa9",
        "outputId": "79ec2fe8-191f-4939-f94b-8e1a49b4a252"
      },
      "outputs": [
        {
          "data": {
            "text/html": [
              "<div>\n",
              "<style scoped>\n",
              "    .dataframe tbody tr th:only-of-type {\n",
              "        vertical-align: middle;\n",
              "    }\n",
              "\n",
              "    .dataframe tbody tr th {\n",
              "        vertical-align: top;\n",
              "    }\n",
              "\n",
              "    .dataframe thead th {\n",
              "        text-align: right;\n",
              "    }\n",
              "</style>\n",
              "<table border=\"1\" class=\"dataframe\">\n",
              "  <thead>\n",
              "    <tr style=\"text-align: right;\">\n",
              "      <th></th>\n",
              "      <th>Number_Baths</th>\n",
              "      <th>Price</th>\n",
              "    </tr>\n",
              "  </thead>\n",
              "  <tbody>\n",
              "    <tr>\n",
              "      <th>1</th>\n",
              "      <td>1</td>\n",
              "      <td>5.420840e+05</td>\n",
              "    </tr>\n",
              "    <tr>\n",
              "      <th>2</th>\n",
              "      <td>2</td>\n",
              "      <td>7.337255e+05</td>\n",
              "    </tr>\n",
              "    <tr>\n",
              "      <th>0</th>\n",
              "      <td>0</td>\n",
              "      <td>8.632492e+05</td>\n",
              "    </tr>\n",
              "    <tr>\n",
              "      <th>3</th>\n",
              "      <td>3</td>\n",
              "      <td>9.882464e+05</td>\n",
              "    </tr>\n",
              "    <tr>\n",
              "      <th>4</th>\n",
              "      <td>4</td>\n",
              "      <td>1.300871e+06</td>\n",
              "    </tr>\n",
              "    <tr>\n",
              "      <th>5</th>\n",
              "      <td>5</td>\n",
              "      <td>1.991334e+06</td>\n",
              "    </tr>\n",
              "    <tr>\n",
              "      <th>6</th>\n",
              "      <td>6</td>\n",
              "      <td>2.526937e+06</td>\n",
              "    </tr>\n",
              "    <tr>\n",
              "      <th>12</th>\n",
              "      <td>12</td>\n",
              "      <td>3.019940e+06</td>\n",
              "    </tr>\n",
              "    <tr>\n",
              "      <th>16</th>\n",
              "      <td>20</td>\n",
              "      <td>3.050000e+06</td>\n",
              "    </tr>\n",
              "    <tr>\n",
              "      <th>8</th>\n",
              "      <td>8</td>\n",
              "      <td>3.490264e+06</td>\n",
              "    </tr>\n",
              "    <tr>\n",
              "      <th>10</th>\n",
              "      <td>10</td>\n",
              "      <td>3.531750e+06</td>\n",
              "    </tr>\n",
              "    <tr>\n",
              "      <th>9</th>\n",
              "      <td>9</td>\n",
              "      <td>3.737035e+06</td>\n",
              "    </tr>\n",
              "    <tr>\n",
              "      <th>13</th>\n",
              "      <td>15</td>\n",
              "      <td>3.750000e+06</td>\n",
              "    </tr>\n",
              "    <tr>\n",
              "      <th>7</th>\n",
              "      <td>7</td>\n",
              "      <td>3.894670e+06</td>\n",
              "    </tr>\n",
              "    <tr>\n",
              "      <th>18</th>\n",
              "      <td>22</td>\n",
              "      <td>4.345000e+06</td>\n",
              "    </tr>\n",
              "    <tr>\n",
              "      <th>19</th>\n",
              "      <td>25</td>\n",
              "      <td>4.350000e+06</td>\n",
              "    </tr>\n",
              "    <tr>\n",
              "      <th>14</th>\n",
              "      <td>16</td>\n",
              "      <td>4.600000e+06</td>\n",
              "    </tr>\n",
              "    <tr>\n",
              "      <th>17</th>\n",
              "      <td>21</td>\n",
              "      <td>4.750000e+06</td>\n",
              "    </tr>\n",
              "    <tr>\n",
              "      <th>11</th>\n",
              "      <td>11</td>\n",
              "      <td>9.897670e+06</td>\n",
              "    </tr>\n",
              "    <tr>\n",
              "      <th>15</th>\n",
              "      <td>17</td>\n",
              "      <td>1.250000e+07</td>\n",
              "    </tr>\n",
              "    <tr>\n",
              "      <th>20</th>\n",
              "      <td>59</td>\n",
              "      <td>1.350000e+07</td>\n",
              "    </tr>\n",
              "  </tbody>\n",
              "</table>\n",
              "</div>"
            ],
            "text/plain": [
              "   Number_Baths         Price\n",
              "1             1  5.420840e+05\n",
              "2             2  7.337255e+05\n",
              "0             0  8.632492e+05\n",
              "3             3  9.882464e+05\n",
              "4             4  1.300871e+06\n",
              "5             5  1.991334e+06\n",
              "6             6  2.526937e+06\n",
              "12           12  3.019940e+06\n",
              "16           20  3.050000e+06\n",
              "8             8  3.490264e+06\n",
              "10           10  3.531750e+06\n",
              "9             9  3.737035e+06\n",
              "13           15  3.750000e+06\n",
              "7             7  3.894670e+06\n",
              "18           22  4.345000e+06\n",
              "19           25  4.350000e+06\n",
              "14           16  4.600000e+06\n",
              "17           21  4.750000e+06\n",
              "11           11  9.897670e+06\n",
              "15           17  1.250000e+07\n",
              "20           59  1.350000e+07"
            ]
          },
          "execution_count": 61,
          "metadata": {},
          "output_type": "execute_result"
        }
      ],
      "source": [
        "data3"
      ]
    },
    {
      "cell_type": "code",
      "execution_count": null,
      "id": "f7f2baf5",
      "metadata": {
        "id": "f7f2baf5",
        "outputId": "f5d3dfcb-3271-4e7b-b88b-48a7e03c9f0b"
      },
      "outputs": [
        {
          "data": {
            "image/png": "[encoded data removed]",
            "text/plain": [
              "<Figure size 640x480 with 1 Axes>"
            ]
          },
          "metadata": {},
          "output_type": "display_data"
        }
      ],
      "source": [
        "plt.bar(data3['Number_Baths'], data3['Price'])\n",
        "\n",
        "# Adding labels to the axes\n",
        "plt.xlabel('Number_Baths')\n",
        "plt.ylabel('Price')\n",
        "\n",
        "# Adding a title to the plot\n",
        "plt.title('Plotting Number_Baths vs Price')\n",
        "\n",
        "# Display the plot\n",
        "plt.show()"
      ]
    },
    {
      "cell_type": "code",
      "execution_count": null,
      "id": "d389c36c",
      "metadata": {
        "id": "d389c36c"
      },
      "outputs": [],
      "source": []
    },
    {
      "cell_type": "code",
      "execution_count": null,
      "id": "a82efc57",
      "metadata": {
        "id": "a82efc57"
      },
      "outputs": [],
      "source": [
        "list_city = df[\"City\"].unique()"
      ]
    },
    {
      "cell_type": "code",
      "execution_count": null,
      "id": "a52d29e4",
      "metadata": {
        "id": "a52d29e4"
      },
      "outputs": [],
      "source": [
        "data2 = df[df[\"City\"].isin(list_city)]"
      ]
    },
    {
      "cell_type": "code",
      "execution_count": null,
      "id": "126c05b5",
      "metadata": {
        "id": "126c05b5"
      },
      "outputs": [],
      "source": [
        "data3 = data2.groupby([\"City\"]).aggregate({\"Price\": \"mean\"}).reset_index()"
      ]
    },
    {
      "cell_type": "code",
      "execution_count": null,
      "id": "040d32db",
      "metadata": {
        "id": "040d32db"
      },
      "outputs": [],
      "source": [
        "data3.sort_values(by=\"Price\",inplace=True)"
      ]
    },
    {
      "cell_type": "code",
      "execution_count": null,
      "id": "e1affb1b",
      "metadata": {
        "id": "e1affb1b",
        "outputId": "e9d25757-3ae0-4c2a-b98f-c2b4cf05c1f6"
      },
      "outputs": [
        {
          "data": {
            "text/html": [
              "<div>\n",
              "<style scoped>\n",
              "    .dataframe tbody tr th:only-of-type {\n",
              "        vertical-align: middle;\n",
              "    }\n",
              "\n",
              "    .dataframe tbody tr th {\n",
              "        vertical-align: top;\n",
              "    }\n",
              "\n",
              "    .dataframe thead th {\n",
              "        text-align: right;\n",
              "    }\n",
              "</style>\n",
              "<table border=\"1\" class=\"dataframe\">\n",
              "  <thead>\n",
              "    <tr style=\"text-align: right;\">\n",
              "      <th></th>\n",
              "      <th>City</th>\n",
              "      <th>Price</th>\n",
              "    </tr>\n",
              "  </thead>\n",
              "  <tbody>\n",
              "    <tr>\n",
              "      <th>12</th>\n",
              "      <td>Regina</td>\n",
              "      <td>3.999000e+05</td>\n",
              "    </tr>\n",
              "    <tr>\n",
              "      <th>14</th>\n",
              "      <td>Sault Ste. Marie</td>\n",
              "      <td>4.251357e+05</td>\n",
              "    </tr>\n",
              "    <tr>\n",
              "      <th>17</th>\n",
              "      <td>Thunder Bay</td>\n",
              "      <td>4.597032e+05</td>\n",
              "    </tr>\n",
              "    <tr>\n",
              "      <th>16</th>\n",
              "      <td>Sudbury</td>\n",
              "      <td>5.960874e+05</td>\n",
              "    </tr>\n",
              "    <tr>\n",
              "      <th>19</th>\n",
              "      <td>Windsor</td>\n",
              "      <td>6.430189e+05</td>\n",
              "    </tr>\n",
              "    <tr>\n",
              "      <th>5</th>\n",
              "      <td>Kingston</td>\n",
              "      <td>7.696073e+05</td>\n",
              "    </tr>\n",
              "    <tr>\n",
              "      <th>8</th>\n",
              "      <td>Nanaimo</td>\n",
              "      <td>7.700000e+05</td>\n",
              "    </tr>\n",
              "    <tr>\n",
              "      <th>10</th>\n",
              "      <td>Ottawa</td>\n",
              "      <td>7.837592e+05</td>\n",
              "    </tr>\n",
              "    <tr>\n",
              "      <th>7</th>\n",
              "      <td>London</td>\n",
              "      <td>7.976271e+05</td>\n",
              "    </tr>\n",
              "    <tr>\n",
              "      <th>11</th>\n",
              "      <td>Peterborough</td>\n",
              "      <td>7.988272e+05</td>\n",
              "    </tr>\n",
              "    <tr>\n",
              "      <th>15</th>\n",
              "      <td>St. Catharines</td>\n",
              "      <td>8.830223e+05</td>\n",
              "    </tr>\n",
              "    <tr>\n",
              "      <th>6</th>\n",
              "      <td>Kitchener</td>\n",
              "      <td>9.235266e+05</td>\n",
              "    </tr>\n",
              "    <tr>\n",
              "      <th>1</th>\n",
              "      <td>Brantford</td>\n",
              "      <td>9.559234e+05</td>\n",
              "    </tr>\n",
              "    <tr>\n",
              "      <th>4</th>\n",
              "      <td>Hamilton</td>\n",
              "      <td>9.755430e+05</td>\n",
              "    </tr>\n",
              "    <tr>\n",
              "      <th>9</th>\n",
              "      <td>Oshawa</td>\n",
              "      <td>9.890622e+05</td>\n",
              "    </tr>\n",
              "    <tr>\n",
              "      <th>0</th>\n",
              "      <td>Barrie</td>\n",
              "      <td>1.048263e+06</td>\n",
              "    </tr>\n",
              "    <tr>\n",
              "      <th>3</th>\n",
              "      <td>Guelph</td>\n",
              "      <td>1.064623e+06</td>\n",
              "    </tr>\n",
              "    <tr>\n",
              "      <th>13</th>\n",
              "      <td>Saskatoon</td>\n",
              "      <td>1.137400e+06</td>\n",
              "    </tr>\n",
              "    <tr>\n",
              "      <th>20</th>\n",
              "      <td>Winnipeg</td>\n",
              "      <td>1.229000e+06</td>\n",
              "    </tr>\n",
              "    <tr>\n",
              "      <th>18</th>\n",
              "      <td>Toronto</td>\n",
              "      <td>1.235289e+06</td>\n",
              "    </tr>\n",
              "    <tr>\n",
              "      <th>2</th>\n",
              "      <td>Caledon</td>\n",
              "      <td>1.383366e+06</td>\n",
              "    </tr>\n",
              "  </tbody>\n",
              "</table>\n",
              "</div>"
            ],
            "text/plain": [
              "                City         Price\n",
              "12            Regina  3.999000e+05\n",
              "14  Sault Ste. Marie  4.251357e+05\n",
              "17       Thunder Bay  4.597032e+05\n",
              "16           Sudbury  5.960874e+05\n",
              "19           Windsor  6.430189e+05\n",
              "5           Kingston  7.696073e+05\n",
              "8            Nanaimo  7.700000e+05\n",
              "10            Ottawa  7.837592e+05\n",
              "7             London  7.976271e+05\n",
              "11      Peterborough  7.988272e+05\n",
              "15    St. Catharines  8.830223e+05\n",
              "6          Kitchener  9.235266e+05\n",
              "1          Brantford  9.559234e+05\n",
              "4           Hamilton  9.755430e+05\n",
              "9             Oshawa  9.890622e+05\n",
              "0             Barrie  1.048263e+06\n",
              "3             Guelph  1.064623e+06\n",
              "13         Saskatoon  1.137400e+06\n",
              "20          Winnipeg  1.229000e+06\n",
              "18           Toronto  1.235289e+06\n",
              "2            Caledon  1.383366e+06"
            ]
          },
          "execution_count": 67,
          "metadata": {},
          "output_type": "execute_result"
        }
      ],
      "source": [
        "data3"
      ]
    },
    {
      "cell_type": "code",
      "execution_count": null,
      "id": "3f7c713b",
      "metadata": {
        "id": "3f7c713b",
        "outputId": "5d191ca3-59ea-4d6b-c6a7-254be2e9dd3b"
      },
      "outputs": [
        {
          "data": {
            "image/png": "[encoded data removed]",
            "text/plain": [
              "<Figure size 640x480 with 1 Axes>"
            ]
          },
          "metadata": {},
          "output_type": "display_data"
        }
      ],
      "source": [
        "plt.bar(data3['City'], data3['Price'])\n",
        "\n",
        "# Adding labels to the axes\n",
        "plt.xlabel('City')\n",
        "plt.ylabel('Price')\n",
        "\n",
        "plt.xticks(rotation=90)\n",
        "\n",
        "\n",
        "# Adding a title to the plot\n",
        "plt.title('Plotting City vs Price')\n",
        "\n",
        "# Display the plot\n",
        "plt.show()"
      ]
    },
    {
      "cell_type": "code",
      "execution_count": 1,
      "id": "e4cb3802",
      "metadata": {
        "id": "e4cb3802"
      },
      "outputs": [],
      "source": [
        "# This is the analysis of price with respect to city, number of beds and baths"
      ]
    },
    {
      "cell_type": "code",
      "source": [
        "# Features on house price would be dependent. X (beds and baths) prediction Y (Price) so for prediction we only have two variables we need more features for ML model to learn better"
      ],
      "metadata": {
        "id": "vo3FUBCCP3qE"
      },
      "id": "vo3FUBCCP3qE",
      "execution_count": 2,
      "outputs": []
    },
    {
      "cell_type": "code",
      "source": [],
      "metadata": {
        "id": "yWKuGifRQeuP"
      },
      "id": "yWKuGifRQeuP",
      "execution_count": null,
      "outputs": []
    }
  ],
  "metadata": {
    "kernelspec": {
      "display_name": "Python 3 (ipykernel)",
      "language": "python",
      "name": "python3"
    },
    "language_info": {
      "codemirror_mode": {
        "name": "ipython",
        "version": 3
      },
      "file_extension": ".py",
      "mimetype": "text/x-python",
      "name": "python",
      "nbconvert_exporter": "python",
      "pygments_lexer": "ipython3",
      "version": "3.10.9"
    },
    "colab": {
      "provenance": [],
      "include_colab_link": true
    }
  },
  "nbformat": 4,
  "nbformat_minor": 5
}